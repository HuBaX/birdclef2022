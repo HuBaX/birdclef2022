{
 "cells": [
  {
   "cell_type": "code",
   "execution_count": null,
   "outputs": [],
   "source": [
    "import numpy as np\n",
    "import matplotlib.pyplot as plt\n",
    "import pandas as pd\n",
    "import librosa\n",
    "import librosa.display\n",
    "import skimage.io\n",
    "import os"
   ],
   "metadata": {
    "collapsed": false,
    "pycharm": {
     "name": "#%%\n"
    }
   }
  },
  {
   "cell_type": "code",
   "execution_count": null,
   "outputs": [],
   "source": [
    "PATH_0 = \"../../birdclef-2022-data\"\n",
    "PATH_1 = \"../birdclef-2022-data\"\n",
    "\n",
    "DF_META = pd.read_csv(f\"{PATH_1}/train_metadata.csv\")\n",
    "\n",
    "BASE_PATH = f'{PATH_1}/train_audio/'\n",
    "AUDIO_NAME = f'{PATH_1}/train_audio/afrsil1/XC125458.ogg'\n",
    "IMG_DIR = f'{PATH_1}/train_images/'\n",
    "HOP_LENGTH = 512\n",
    "WINDOW_SIZE = 1024\n",
    "N_MELS = 256"
   ],
   "metadata": {
    "collapsed": false,
    "pycharm": {
     "name": "#%%\n"
    }
   }
  },
  {
   "cell_type": "code",
   "execution_count": null,
   "outputs": [],
   "source": [
    "#Example: Create a spectrogram from ogg.-file with librosa\n",
    "\n",
    "y, sr = librosa.load(AUDIO_NAME)\n",
    "window = np.hanning(WINDOW_SIZE)\n",
    "out  = librosa.core.spectrum.stft(y, n_fft = WINDOW_SIZE, hop_length = HOP_LENGTH,\n",
    "       window=window)\n",
    "out = 2 * np.abs(out) / np.sum(window)\n",
    "\n",
    "librosa.display.specshow(librosa.amplitude_to_db(out,ref=np.max),\n",
    "               y_axis='log', x_axis='time')"
   ],
   "metadata": {
    "collapsed": false,
    "pycharm": {
     "name": "#%%\n"
    }
   }
  },
  {
   "cell_type": "code",
   "execution_count": null,
   "outputs": [],
   "source": [
    "# Functions to create spectrograms and the required folder structure for each label\n",
    "\n",
    "def spectrogram_image(y, sr, out, hop_length, n_mels):\n",
    "    # use log-melspectrogram\n",
    "    mels = librosa.feature.melspectrogram(y=y, sr=sr, n_mels=n_mels,\n",
    "                                            n_fft=hop_length*2, hop_length=hop_length)\n",
    "    mels = np.log(mels + 1e-9) # add small number to avoid log(0)\n",
    "\n",
    "    # min-max scale to fit inside 8-bit range\n",
    "    img = scale_minmax(mels, 0, 255).astype(np.uint8)\n",
    "    img = np.flip(img, axis=0) # put low frequencies at the bottom in image\n",
    "    img = 255-img # invert. make black==more energy\n",
    "\n",
    "    # save as PNG\n",
    "    skimage.io.imsave(IMG_DIR + out + '.png', img)\n",
    "\n",
    "def scale_minmax(X, min=0.0, max=1.0):\n",
    "    X_std = (X - X.min()) / (X.max() - X.min())\n",
    "    X_scaled = X_std * (max - min) + min\n",
    "    return X_scaled\n",
    "\n",
    "def load_batch_spectograms(audio_names):\n",
    "    for entry in audio_names:\n",
    "        y, sr = librosa.load(BASE_PATH + entry)\n",
    "        spectrogram_image(y, sr, entry[:-4], HOP_LENGTH, N_MELS)\n",
    "\n",
    "# careful, takes multiple hours to run\n",
    "def generate_spectograms():\n",
    "    names = DF_META['filename']\n",
    "    load_batch_spectograms(names)\n",
    "\n",
    "def add_folder_structure():\n",
    "    names = DF_META['primary_label'].unique()\n",
    "    for name in names:\n",
    "        os.mkdir(IMG_DIR + name)"
   ],
   "metadata": {
    "collapsed": false,
    "pycharm": {
     "name": "#%%\n"
    }
   }
  },
  {
   "cell_type": "code",
   "execution_count": null,
   "outputs": [],
   "source": [
    "add_folder_structure()"
   ],
   "metadata": {
    "collapsed": false,
    "pycharm": {
     "name": "#%%\n"
    }
   }
  },
  {
   "cell_type": "code",
   "execution_count": null,
   "outputs": [],
   "source": [
    "#generate_spectograms()"
   ],
   "metadata": {
    "collapsed": false,
    "pycharm": {
     "name": "#%%\n"
    }
   }
  }
 ],
 "metadata": {
  "interpreter": {
   "hash": "11938c6bc6919ae2720b4d5011047913343b08a43b18698fd82dedb0d4417594"
  },
  "kernelspec": {
   "display_name": "Python 3.9.4 64-bit",
   "language": "python",
   "name": "python3"
  },
  "language_info": {
   "codemirror_mode": {
    "name": "ipython",
    "version": 3
   },
   "file_extension": ".py",
   "mimetype": "text/x-python",
   "name": "python",
   "nbconvert_exporter": "python",
   "pygments_lexer": "ipython3",
   "version": "3.9.4"
  }
 },
 "nbformat": 4,
 "nbformat_minor": 0
}
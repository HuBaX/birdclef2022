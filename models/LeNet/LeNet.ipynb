{
 "cells": [
  {
   "cell_type": "code",
   "execution_count": 1,
   "outputs": [],
   "source": [
    "# import the necessary packages\n",
    "from torch.nn import Module\n",
    "from torch.nn import Conv2d\n",
    "from torch.nn import Linear\n",
    "from torch.nn import MaxPool2d\n",
    "from torch.nn import ReLU\n",
    "from torch.nn import LogSoftmax\n",
    "from torch import flatten\n",
    "import numpy as np\n",
    "import pandas as pd\n",
    "import torch\n",
    "import os\n",
    "from torch.utils.data import Dataset\n",
    "from torch.utils.data import DataLoader\n",
    "from torch.optim import Adam\n",
    "from torch import nn\n",
    "import matplotlib.pyplot as plt\n",
    "import time\n",
    "from datetime import datetime\n",
    "from sklearn.metrics import f1_score, confusion_matrix\n",
    "from sklearn.model_selection import train_test_split\n",
    "from sklearn.preprocessing import LabelEncoder\n",
    "from tqdm import tqdm\n",
    "import seaborn as sns\n",
    "import json"
   ],
   "metadata": {
    "collapsed": false,
    "pycharm": {
     "name": "#%%\n"
    }
   }
  },
  {
   "cell_type": "code",
   "execution_count": 2,
   "outputs": [],
   "source": [
    "class LeNet(Module):\n",
    "\tdef __init__(self, numChannels, classes):\n",
    "\t\t# call the parent constructor\n",
    "\t\tsuper(LeNet, self).__init__()\n",
    "\n",
    "\t\t# initialize first set of CONV => RELU => POOL layers\n",
    "\t\tself.conv1 = Conv2d(in_channels=numChannels, out_channels=20,\n",
    "\t\t\tkernel_size=(5, 5))\n",
    "\t\tself.relu1 = ReLU()\n",
    "\t\tself.maxpool1 = MaxPool2d(kernel_size=(2, 2), stride=(2, 2))\n",
    "\n",
    "\t\t# initialize second set of CONV => RELU => POOL layers\n",
    "\t\tself.conv2 = Conv2d(in_channels=20, out_channels=30,\n",
    "\t\t\tkernel_size=(5, 5))\n",
    "\t\tself.relu2 = ReLU()\n",
    "\t\tself.maxpool2 = MaxPool2d(kernel_size=(2, 2), stride=(2, 2))\n",
    "\n",
    "\t\tself.conv3 = Conv2d(in_channels=30, out_channels=40,\n",
    "\t\t\tkernel_size=(5, 5))\n",
    "\t\tself.relu3 = ReLU()\n",
    "\t\tself.maxpool3 = MaxPool2d(kernel_size=(2, 2), stride=(2, 2))\n",
    "\n",
    "\t\tself.conv4 = Conv2d(in_channels=40, out_channels=50,\n",
    "\t\t\tkernel_size=(5, 5))\n",
    "\t\tself.relu4 = ReLU()\n",
    "\t\tself.maxpool4 = MaxPool2d(kernel_size=(2, 2), stride=(2, 2))\n",
    "\n",
    "\t\tself.conv5 = Conv2d(in_channels=50, out_channels=60,\n",
    "\t\t\tkernel_size=(5, 5))\n",
    "\t\tself.relu5 = ReLU()\n",
    "\t\tself.maxpool5 = MaxPool2d(kernel_size=(2, 2), stride=(2, 2))\n",
    "\n",
    "\t\t# initialize first (and only) set of FC => RELU layers\n",
    "\t\tself.fc1 = Linear(in_features=900, out_features=500)\n",
    "\t\tself.relu6 = ReLU()\n",
    "\n",
    "\t\t# initialize our softmax classifier\n",
    "\t\tself.fc2 = Linear(in_features=500, out_features=classes)\n",
    "\t\tself.logSoftmax = LogSoftmax(dim=1)\n",
    "\n",
    "\tdef forward(self, x):\n",
    "\t\t# pass the input through our first set of CONV => RELU =>\n",
    "\t\t# POOL layers\n",
    "\t\tx = self.conv1(x)\n",
    "\t\t#print(f\"shape after first conv: {x.shape}\")\n",
    "\t\tx = self.relu1(x)\n",
    "\t\tx = self.maxpool1(x)\n",
    "\t\t#print(f\"shape after first maxpool: {x.shape}\")\n",
    "\t\t# pass the output from the previous layer through the second\n",
    "\t\t# set of CONV => RELU => POOL layers\n",
    "\t\tx = self.conv2(x)\n",
    "\t\t#print(f\"shape after second conv: {x.shape}\")\n",
    "\t\tx = self.relu2(x)\n",
    "\t\tx = self.maxpool2(x)\n",
    "\t\t#print(f\"shape after second maxpool: {x.shape}\")\n",
    "\n",
    "\t\tx = self.conv3(x)\n",
    "\t\t#print(f\"shape after third conv: {x.shape}\")\n",
    "\t\tx = self.relu3(x)\n",
    "\t\tx = self.maxpool3(x)\n",
    "\t\t#print(f\"shape after third maxpool: {x.shape}\")\n",
    "\n",
    "\t\tx = self.conv4(x)\n",
    "\t\t#print(f\"shape after fourth conv: {x.shape}\")\n",
    "\t\tx = self.relu4(x)\n",
    "\t\tx = self.maxpool4(x)\n",
    "\t\t#print(f\"shape after fourth maxpool: {x.shape}\")\n",
    "\n",
    "\t\tx = self.conv5(x)\n",
    "\t\t#print(f\"shape after fifth conv: {x.shape}\")\n",
    "\t\tx = self.relu5(x)\n",
    "\t\tx = self.maxpool5(x)\n",
    "\t\t#print(f\"shape after fifth maxpool: {x.shape}\")\n",
    "\t\t# flatten the output from the previous layer and pass it\n",
    "\t\t# through our only set of FC => RELU layers\n",
    "\t\tx = flatten(x, 1)\n",
    "\t\t#print(f\"shape after flatten: {x.shape}\")\n",
    "\t\tx = self.fc1(x)\n",
    "\t\tx = self.relu6(x)\n",
    "\t\t# pass the output to our softmax classifier to get our output\n",
    "\t\t# predictions\n",
    "\t\tx = self.fc2(x)\n",
    "\t\toutput = self.logSoftmax(x)\n",
    "\t\t# return the output predictions\n",
    "\t\treturn output"
   ],
   "metadata": {
    "collapsed": false,
    "pycharm": {
     "name": "#%%\n"
    }
   }
  },
  {
   "cell_type": "code",
   "execution_count": 3,
   "outputs": [],
   "source": [
    "class CustomDataset(Dataset):\n",
    "\tdef __init__(self, x, y, img_dir):\n",
    "\t\tself.x = x\n",
    "\t\tself.y = y\n",
    "\t\tself.img_dir = img_dir\n",
    "\t\tself.classes = np.unique(self.y)\n",
    "\n",
    "\n",
    "\tdef __len__(self):\n",
    "\t\treturn len(self.x)\n",
    "\n",
    "\n",
    "\tdef __getitem__(self, idx):\n",
    "\t\timg_path = os.path.join(self.img_dir, self.x[idx])\n",
    "\t\timage = np.load(img_path)\n",
    "\t\tlabel = self.y[idx]\n",
    "\t\treturn image, label\n"
   ],
   "metadata": {
    "collapsed": false,
    "pycharm": {
     "name": "#%%\n"
    }
   }
  },
  {
   "cell_type": "code",
   "execution_count": 4,
   "outputs": [
    {
     "name": "stdout",
     "output_type": "stream",
     "text": [
      "cuda\n"
     ]
    }
   ],
   "source": [
    "DATA_PATH = '../../../birdclef-2022-data'\n",
    "AUDIO_PATH = '../../../birdclef-2022-data/train_audio'\n",
    "IMAGE_PATH = '../../../birdclef-2022-data/train_images/'\n",
    "All_BUT_LAST = True\n",
    "ONLY_FIRST = False\n",
    "SEED = 42\n",
    "\n",
    "# define training hyperparameters\n",
    "INIT_LR = 1e-3\n",
    "BATCH_SIZE = 64\n",
    "EPOCHS = 10\n",
    "# define the train and val splits\n",
    "TRAIN_SPLIT = 0.75\n",
    "VAL_SPLIT = 1 - TRAIN_SPLIT\n",
    "# set the device we will be using to train the model\n",
    "device = torch.device(\"cuda\" if torch.cuda.is_available() else \"cpu\")\n",
    "print(device)"
   ],
   "metadata": {
    "collapsed": false,
    "pycharm": {
     "name": "#%%\n"
    }
   }
  },
  {
   "cell_type": "code",
   "execution_count": 5,
   "outputs": [],
   "source": [
    "# collect data about data structure\n",
    "def create_first_clip():\n",
    "    all_data = []\n",
    "    for primary_label in os.listdir(IMAGE_PATH):\n",
    "        all_data += [primary_label + '/' +\n",
    "                        x for x in os.listdir(IMAGE_PATH + primary_label) if x.endswith('_0.npy')\n",
    "                        ]\n",
    "    all_data += ['maupar/XC123887_1.npy']\n",
    "    results = create_annotated_dataframe(all_data)\n",
    "    return results\n",
    "\n",
    "def create_all_clips():\n",
    "    all_data = []\n",
    "    for primary_label in os.listdir(IMAGE_PATH):\n",
    "        directories = os.listdir(IMAGE_PATH + primary_label)\n",
    "        if All_BUT_LAST:\n",
    "            if len(directories) > 1:\n",
    "                directories = directories[:-1]\n",
    "            all_data += [primary_label + '/' + x for x in directories]\n",
    "        else:\n",
    "            all_data += [primary_label + '/' + x for x in directories]\n",
    "    results = create_annotated_dataframe(all_data)\n",
    "    return results\n",
    "\n",
    "def create_annotated_dataframe(all_data):\n",
    "    base_data = {'file_name': [], 'label': []}\n",
    "    for item in all_data:\n",
    "        base_data['file_name'].append(item)\n",
    "        base_data['label'].append(item.split('/')[0])\n",
    "    results = create_encoded_dataframe(base_data)\n",
    "    return results\n",
    "\n",
    "def create_encoded_dataframe(base_data):\n",
    "    results = pd.DataFrame(base_data, columns = ['file_name', 'label'])\n",
    "    le = LabelEncoder()\n",
    "    labels = le.fit_transform(results['label'])\n",
    "    results['label'] = np.int64(labels)\n",
    "    return results"
   ],
   "metadata": {
    "collapsed": false,
    "pycharm": {
     "name": "#%%\n"
    }
   }
  },
  {
   "cell_type": "code",
   "execution_count": 6,
   "outputs": [],
   "source": [
    "def stratified_split(dataset):\n",
    "    x_train, x_val, y_train, y_val = train_test_split(dataset['file_name'].to_numpy(),\n",
    "                                                  dataset['label'].to_numpy(),\n",
    "                                                  test_size=0.25,\n",
    "                                                  stratify=dataset['label'],\n",
    "                                                  random_state=SEED)\n",
    "\n",
    "    train = CustomDataset(x_train, y_train, IMAGE_PATH)\n",
    "    val = CustomDataset(x_val, y_val, IMAGE_PATH)\n",
    "    return train, val"
   ],
   "metadata": {
    "collapsed": false,
    "pycharm": {
     "name": "#%%\n"
    }
   }
  },
  {
   "cell_type": "code",
   "execution_count": 7,
   "outputs": [],
   "source": [
    "dataset = create_first_clip() if ONLY_FIRST else create_all_clips()\n",
    "train, val = stratified_split(dataset)"
   ],
   "metadata": {
    "collapsed": false,
    "pycharm": {
     "name": "#%%\n"
    }
   }
  },
  {
   "cell_type": "code",
   "execution_count": 8,
   "outputs": [],
   "source": [
    "trainDataLoader = DataLoader(train, batch_size=BATCH_SIZE, num_workers=3)\n",
    "valDataLoader = DataLoader(val, batch_size=BATCH_SIZE, num_workers=3)\n",
    "\n",
    "trainSteps = len(trainDataLoader.dataset) // BATCH_SIZE\n",
    "valSteps = len(valDataLoader.dataset) // BATCH_SIZE"
   ],
   "metadata": {
    "collapsed": false,
    "pycharm": {
     "name": "#%%\n"
    }
   }
  },
  {
   "cell_type": "code",
   "execution_count": 9,
   "outputs": [
    {
     "name": "stdout",
     "output_type": "stream",
     "text": [
      "[INFO] initializing the LeNet model...\n"
     ]
    }
   ],
   "source": [
    "# initialize the LeNet model\n",
    "torch.manual_seed(SEED)\n",
    "print(\"[INFO] initializing the LeNet model...\")\n",
    "model = LeNet(\n",
    "\tnumChannels=3,\n",
    "\tclasses=len(train.classes)).to(device)\n",
    "# initialize our optimizer and loss function\n",
    "opt = Adam(model.parameters(), lr=INIT_LR)\n",
    "lossFn = nn.NLLLoss()\n",
    "# initialize a dictionary to store training history\n",
    "class_acc = []\n",
    "metrics = {\n",
    "\t\"train_loss\": [],\n",
    "\t\"train_acc\": [],\n",
    "\t\"val_loss\": [],\n",
    "\t\"val_acc\": [],\n",
    "\t\"f1score\": []\n",
    "}"
   ],
   "metadata": {
    "collapsed": false,
    "pycharm": {
     "name": "#%%\n"
    }
   }
  },
  {
   "cell_type": "code",
   "execution_count": null,
   "outputs": [
    {
     "name": "stdout",
     "output_type": "stream",
     "text": [
      "[INFO] training the network...\n",
      "[INFO] starting training for epoch: 1 at 16:55:10\n"
     ]
    },
    {
     "name": "stderr",
     "output_type": "stream",
     "text": [
      "training progress:   0%|          | 0/1696 [00:00<?, ?it/s]"
     ]
    }
   ],
   "source": [
    "\n",
    "# measure how long training is going to take\n",
    "print(\"[INFO] training the network...\")\n",
    "startTime = time.time()\n",
    "\n",
    "# loop over our epochs\n",
    "for e in range(0, EPOCHS):\n",
    "\tprint(f\"[INFO] starting training for epoch: {e + 1} at {datetime.now().strftime('%H:%M:%S')}\")\n",
    "\tpreds = []\n",
    "\ttarget = []\n",
    "\t# set the model in training mode\n",
    "\tmodel.train()\n",
    "\t# initialize the total training and validation loss\n",
    "\ttotalTrainLoss = 0\n",
    "\ttotalValLoss = 0\n",
    "\t# initialize the number of correct predictions in the training\n",
    "\t# and validation step\n",
    "\ttrainCorrect = 0\n",
    "\tvalCorrect = 0\n",
    "\t# loop over the training set\n",
    "\tfor data in tqdm(trainDataLoader, desc=\"training progress\"):\n",
    "\t\t# send the input to the device\n",
    "\t\tx, y = data\n",
    "\t\tx = x.transpose(1, 3)\n",
    "\t\tx = x.transpose(2, 3)\n",
    "\t\tx = x.float()\n",
    "\t\tx, y = (x.to(device), y.to(device))\n",
    "\t\t# perform a forward pass and calculate the training loss\n",
    "\t\tpred = model(x)\n",
    "\t\tloss = lossFn(pred, y)\n",
    "\t\t# zero out the gradients, perform the backpropagation step,\n",
    "\t\t# and update the weights\n",
    "\t\topt.zero_grad()\n",
    "\t\tloss.backward()\n",
    "\t\topt.step()\n",
    "\t\t# add the loss to the total training loss so far and\n",
    "\t\t# calculate the number of correct predictions\n",
    "\t\ttotalTrainLoss += loss\n",
    "\t\ttrainCorrect += (pred.argmax(1) == y).type(torch.float).sum().item()\n",
    "\t\t# add predictions and targets for F1score and per class accuracy tracking\n",
    "\t\tfor item in pred:\n",
    "\t\t\tpreds.append(np.argmax(item.cpu().detach().numpy()))\n",
    "\t\ttarget.extend(y.cpu().detach().numpy())\n",
    "\n",
    "\t# switch off autograd for evaluation\n",
    "\twith torch.no_grad():\n",
    "\t\tprint(f\"[INFO] starting evaluation for epoch: {e + 1} at {datetime.now().strftime('%H:%M:%S')}\")\n",
    "\t\t# set the model in evaluation mode\n",
    "\t\tmodel.eval()\n",
    "\t\t# loop over the validation set\n",
    "\t\tfor (x, y) in tqdm(valDataLoader, desc=\"validation progress\"):\n",
    "\t\t\tx = x.transpose(1, 3)\n",
    "\t\t\tx = x.transpose(2, 3)\n",
    "\t\t\tx = x.float()\n",
    "\t\t\t# send the input to the device\n",
    "\t\t\t(x, y) = (x.to(device), y.to(device))\n",
    "\t\t\t# make the predictions and calculate the validation loss\n",
    "\t\t\tpred = model(x)\n",
    "\t\t\ttotalValLoss += lossFn(pred, y)\n",
    "\t\t\t# calculate the number of correct predictions\n",
    "\t\t\tvalCorrect += (pred.argmax(1) == y).type(torch.float).sum().item()\n",
    "\n",
    "\t# calculate the average training and validation loss\n",
    "\tavgTrainLoss = totalTrainLoss / trainSteps\n",
    "\tavgValLoss = totalValLoss / valSteps\n",
    "\t# calculate the training and validation accuracy\n",
    "\ttrainCorrect = trainCorrect / len(trainDataLoader.dataset)\n",
    "\tvalCorrect = valCorrect / len(valDataLoader.dataset)\n",
    "\t# calculate per class accuracy via confusion matrix\n",
    "\tmatrix = confusion_matrix(target, preds)\n",
    "\tclass_acc.append(matrix.diagonal()/matrix.sum(axis=1))\n",
    "\t# calculate macro F1 score\n",
    "\tf1epoch = f1_score(target, preds, average='macro')\n",
    "\t# update our training history\n",
    "\tmetrics[\"train_loss\"].append(avgTrainLoss.cpu().detach().numpy())\n",
    "\tmetrics[\"train_acc\"].append(trainCorrect)\n",
    "\tmetrics[\"val_loss\"].append(avgValLoss.cpu().detach().numpy())\n",
    "\tmetrics[\"val_acc\"].append(valCorrect)\n",
    "\tmetrics['f1score'].append(f1epoch)\n",
    "\t# print the model training and validation information\n",
    "\tprint(f\"\"\"\n",
    "\t[INFO] EPOCH: {e + 1}/{EPOCHS}\n",
    "\tTrain loss: {avgTrainLoss :.6f}, Train accuracy: {trainCorrect :.4f}\n",
    "\tVal loss: \t{avgValLoss :.6f}, Val accuracy:   {valCorrect :.4f}\n",
    "\tF1: \t\t{f1epoch :.6f}\n",
    "\t---------------------------------------------------- \\n\n",
    "\t\"\"\")\n",
    "\n",
    "# finish measuring how long training took\n",
    "endTime = time.time()\n",
    "print(f\"[INFO] total time taken to train the model: {(endTime - startTime) / 60 :.2f}min\")"
   ],
   "metadata": {
    "collapsed": false,
    "pycharm": {
     "name": "#%%\n",
     "is_executing": true
    }
   }
  },
  {
   "cell_type": "code",
   "execution_count": null,
   "outputs": [],
   "source": [
    "# prepare data for final evaluation metric output\n",
    "with open(f\"{DATA_PATH}/scored_birds.json\") as f:\n",
    "    scored = json.load(f)\n",
    "\n",
    "labels_raw = [x for x in os.listdir(IMAGE_PATH)]\n",
    "\n",
    "le = LabelEncoder()\n",
    "le.fit(labels_raw)\n",
    "scored_encoded = le.transform(scored)\n",
    "accs_last_epoch = class_acc[-1]\n",
    "acc_scored = [accs_last_epoch[x] for x in scored_encoded]\n",
    "output = f\"\"\"\n",
    "last epoch values:\n",
    "train loss: {metrics[\"train_loss\"][-1]}\n",
    "train acc:  {metrics[\"train_acc\"][-1]}\n",
    "val loss:   {metrics[\"val_loss\"][-1]}\n",
    "val acc:    {metrics[\"val_acc\"][-1]}\n",
    "F1:         {metrics['f1score'][-1]}\n",
    "\"\"\"\n",
    "print(output)\n",
    "print(f\"per class accuracy after last epoch: \\n {accs_last_epoch}\")"
   ],
   "metadata": {
    "collapsed": false,
    "pycharm": {
     "name": "#%%\n",
     "is_executing": true
    }
   }
  },
  {
   "cell_type": "code",
   "execution_count": null,
   "outputs": [],
   "source": [
    "# plot per class accuracy for all classes and only the scored classes\n",
    "plt.style.use(\"ggplot\")\n",
    "plt.rcParams['font.size'] = 20\n",
    "fig, ax = plt.subplots(nrows = 1, ncols = 2, figsize = (18,40))\n",
    "sns.barplot(x=accs_last_epoch, y=os.listdir(IMAGE_PATH), ax = ax[0])\n",
    "sns.barplot(x=acc_scored, y=scored, ax = ax[1], dodge=False)\n",
    "ax[0].set_title(\"per class accuracy\")\n",
    "ax[1].set_title(\"accuracy for scored classes\")\n",
    "plt.tight_layout()"
   ],
   "metadata": {
    "collapsed": false,
    "pycharm": {
     "name": "#%%\n",
     "is_executing": true
    }
   }
  },
  {
   "cell_type": "code",
   "execution_count": null,
   "outputs": [],
   "source": [
    "# plot the training loss and accuracy\n",
    "plt.style.use(\"ggplot\")\n",
    "plt.rcParams['font.size'] = 20\n",
    "plt.figure(figsize=(20, 18))\n",
    "plt.plot(metrics[\"train_loss\"], label=\"train_loss\")\n",
    "plt.plot(metrics[\"val_loss\"], label=\"val_loss\")\n",
    "plt.plot(metrics[\"train_acc\"], label=\"train_acc\")\n",
    "plt.plot(metrics[\"val_acc\"], label=\"val_acc\")\n",
    "plt.plot(metrics[\"f1score\"], label=\"f1_score\")\n",
    "plt.title(\"Training Loss, Accuracy and F1 on Dataset\")\n",
    "plt.xlabel(\"Epoch #\")\n",
    "plt.ylabel(\"Loss/Accuracy/F1\")\n",
    "plt.legend(loc=\"lower left\")"
   ],
   "metadata": {
    "collapsed": false,
    "pycharm": {
     "name": "#%%\n",
     "is_executing": true
    }
   }
  },
  {
   "cell_type": "code",
   "execution_count": null,
   "outputs": [],
   "source": [],
   "metadata": {
    "collapsed": false,
    "pycharm": {
     "name": "#%%\n",
     "is_executing": true
    }
   }
  }
 ],
 "metadata": {
  "kernelspec": {
   "display_name": "Python 3",
   "language": "python",
   "name": "python3"
  },
  "language_info": {
   "codemirror_mode": {
    "name": "ipython",
    "version": 2
   },
   "file_extension": ".py",
   "mimetype": "text/x-python",
   "name": "python",
   "nbconvert_exporter": "python",
   "pygments_lexer": "ipython2",
   "version": "2.7.6"
  }
 },
 "nbformat": 4,
 "nbformat_minor": 0
}
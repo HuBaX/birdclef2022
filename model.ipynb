{
 "cells": [
  {
   "cell_type": "code",
   "execution_count": 232,
   "outputs": [],
   "source": [
    "# import the necessary packages\n",
    "from torch.nn import Module\n",
    "from torch.nn import Conv2d\n",
    "from torch.nn import Linear\n",
    "from torch.nn import MaxPool2d\n",
    "from torch.nn import ReLU\n",
    "from torch.nn import LogSoftmax\n",
    "from torch import flatten\n",
    "import numpy as np\n",
    "import pandas as pd\n",
    "import torch\n",
    "import os\n",
    "from torch.utils.data import Dataset\n",
    "from torch.utils.data import random_split\n",
    "from torch.utils.data import DataLoader\n",
    "from torch.utils.data.sampler import SubsetRandomSampler\n",
    "from torch.optim import Adam\n",
    "from torch import nn\n",
    "import matplotlib.pyplot as plt\n",
    "import time\n",
    "from datetime import datetime\n",
    "from sklearn.metrics import f1_score\n",
    "from sklearn.model_selection import train_test_split\n",
    "from tqdm import tqdm"
   ],
   "metadata": {
    "collapsed": false,
    "pycharm": {
     "name": "#%%\n"
    }
   }
  },
  {
   "cell_type": "code",
   "execution_count": 233,
   "outputs": [],
   "source": [
    "class LeNet(Module):\n",
    "\tdef __init__(self, numChannels, classes):\n",
    "\t\t# call the parent constructor\n",
    "\t\tsuper(LeNet, self).__init__()\n",
    "\n",
    "\t\t# initialize first set of CONV => RELU => POOL layers\n",
    "\t\tself.conv1 = Conv2d(in_channels=numChannels, out_channels=20,\n",
    "\t\t\tkernel_size=(5, 5))\n",
    "\t\tself.relu1 = ReLU()\n",
    "\t\tself.maxpool1 = MaxPool2d(kernel_size=(2, 2), stride=(2, 2))\n",
    "\n",
    "\t\t# initialize second set of CONV => RELU => POOL layers\n",
    "\t\tself.conv2 = Conv2d(in_channels=20, out_channels=30,\n",
    "\t\t\tkernel_size=(5, 5))\n",
    "\t\tself.relu2 = ReLU()\n",
    "\t\tself.maxpool2 = MaxPool2d(kernel_size=(2, 2), stride=(2, 2))\n",
    "\n",
    "\t\tself.conv3 = Conv2d(in_channels=30, out_channels=40,\n",
    "\t\t\tkernel_size=(5, 5))\n",
    "\t\tself.relu3 = ReLU()\n",
    "\t\tself.maxpool3 = MaxPool2d(kernel_size=(2, 2), stride=(2, 2))\n",
    "\n",
    "\t\tself.conv4 = Conv2d(in_channels=40, out_channels=50,\n",
    "\t\t\tkernel_size=(5, 5))\n",
    "\t\tself.relu4 = ReLU()\n",
    "\t\tself.maxpool4 = MaxPool2d(kernel_size=(2, 2), stride=(2, 2))\n",
    "\n",
    "\t\tself.conv5 = Conv2d(in_channels=50, out_channels=60,\n",
    "\t\t\tkernel_size=(5, 5))\n",
    "\t\tself.relu5 = ReLU()\n",
    "\t\tself.maxpool5 = MaxPool2d(kernel_size=(2, 2), stride=(2, 2))\n",
    "\n",
    "\t\t# initialize first (and only) set of FC => RELU layers\n",
    "\t\tself.fc1 = Linear(in_features=900, out_features=500)\n",
    "\t\tself.relu6 = ReLU()\n",
    "\n",
    "\t\t# initialize our softmax classifier\n",
    "\t\tself.fc2 = Linear(in_features=500, out_features=classes)\n",
    "\t\tself.logSoftmax = LogSoftmax(dim=1)\n",
    "\n",
    "\tdef forward(self, x):\n",
    "\t\t# pass the input through our first set of CONV => RELU =>\n",
    "\t\t# POOL layers\n",
    "\t\tx = self.conv1(x)\n",
    "\t\t#print(f\"shape after first conv: {x.shape}\")\n",
    "\t\tx = self.relu1(x)\n",
    "\t\tx = self.maxpool1(x)\n",
    "\t\t#print(f\"shape after first maxpool: {x.shape}\")\n",
    "\t\t# pass the output from the previous layer through the second\n",
    "\t\t# set of CONV => RELU => POOL layers\n",
    "\t\tx = self.conv2(x)\n",
    "\t\t#print(f\"shape after second conv: {x.shape}\")\n",
    "\t\tx = self.relu2(x)\n",
    "\t\tx = self.maxpool2(x)\n",
    "\t\t#print(f\"shape after second maxpool: {x.shape}\")\n",
    "\n",
    "\t\tx = self.conv3(x)\n",
    "\t\t#print(f\"shape after third conv: {x.shape}\")\n",
    "\t\tx = self.relu3(x)\n",
    "\t\tx = self.maxpool3(x)\n",
    "\t\t#print(f\"shape after third maxpool: {x.shape}\")\n",
    "\n",
    "\t\tx = self.conv4(x)\n",
    "\t\t#print(f\"shape after fourth conv: {x.shape}\")\n",
    "\t\tx = self.relu4(x)\n",
    "\t\tx = self.maxpool4(x)\n",
    "\t\t#print(f\"shape after fourth maxpool: {x.shape}\")\n",
    "\n",
    "\t\tx = self.conv5(x)\n",
    "\t\t#print(f\"shape after fifth conv: {x.shape}\")\n",
    "\t\tx = self.relu5(x)\n",
    "\t\tx = self.maxpool5(x)\n",
    "\t\t#print(f\"shape after fifth maxpool: {x.shape}\")\n",
    "\t\t# flatten the output from the previous layer and pass it\n",
    "\t\t# through our only set of FC => RELU layers\n",
    "\t\tx = flatten(x, 1)\n",
    "\t\t#print(f\"shape after flatten: {x.shape}\")\n",
    "\t\tx = self.fc1(x)\n",
    "\t\tx = self.relu6(x)\n",
    "\t\t# pass the output to our softmax classifier to get our output\n",
    "\t\t# predictions\n",
    "\t\tx = self.fc2(x)\n",
    "\t\toutput = self.logSoftmax(x)\n",
    "\t\t# return the output predictions\n",
    "\t\treturn output"
   ],
   "metadata": {
    "collapsed": false,
    "pycharm": {
     "name": "#%%\n"
    }
   }
  },
  {
   "cell_type": "code",
   "execution_count": 234,
   "outputs": [],
   "source": [
    "class CustomDataset(Dataset):\n",
    "\tdef __init__(self, x, y, img_dir):\n",
    "\t\tself.x = x\n",
    "\t\tself.y = y\n",
    "\t\tself.img_dir = img_dir\n",
    "\t\tself.classes = np.unique(self.y)\n",
    "\n",
    "\n",
    "\tdef __len__(self):\n",
    "\t\treturn len(self.x)\n",
    "\n",
    "\n",
    "\tdef __getitem__(self, idx):\n",
    "\t\timg_path = os.path.join(self.img_dir, self.x[idx])\n",
    "\t\timage = np.load(img_path)\n",
    "\t\tlabel = self.y[idx]\n",
    "\t\treturn image, label\n"
   ],
   "metadata": {
    "collapsed": false,
    "pycharm": {
     "name": "#%%\n"
    }
   }
  },
  {
   "cell_type": "code",
   "execution_count": 235,
   "outputs": [
    {
     "name": "stdout",
     "output_type": "stream",
     "text": [
      "cuda\n"
     ]
    }
   ],
   "source": [
    "AUDIO_PATH = '../birdclef-2022-data/train_audio'\n",
    "IMAGE_PATH = '../birdclef-2022-data/train_images/'\n",
    "ANNOTATED_PATH = 'annotated_data.csv'\n",
    "ONLY_FIRST = True\n",
    "\n",
    "# define training hyperparameters\n",
    "INIT_LR = 1e-3\n",
    "BATCH_SIZE = 64\n",
    "EPOCHS = 10\n",
    "# define the train and val splits\n",
    "TRAIN_SPLIT = 0.75\n",
    "VAL_SPLIT = 1 - TRAIN_SPLIT\n",
    "# set the device we will be using to train the model\n",
    "device = torch.device(\"cuda\" if torch.cuda.is_available() else \"cpu\")\n",
    "print(device)"
   ],
   "metadata": {
    "collapsed": false,
    "pycharm": {
     "name": "#%%\n"
    }
   }
  },
  {
   "cell_type": "code",
   "execution_count": 236,
   "outputs": [
    {
     "name": "stdout",
     "output_type": "stream",
     "text": [
      "                file_name  label\n",
      "0  afrsil1/XC125458_0.npy      0\n",
      "1  afrsil1/XC175522_0.npy      0\n",
      "2  afrsil1/XC177993_0.npy      0\n",
      "3  afrsil1/XC205893_0.npy      0\n",
      "4  afrsil1/XC207431_0.npy      0\n"
     ]
    }
   ],
   "source": [
    "# collect data about data structure\n",
    "from sklearn.preprocessing import LabelEncoder\n",
    "all_data = []\n",
    "for primary_label in os.listdir(IMAGE_PATH):\n",
    "\tif ONLY_FIRST:\n",
    "\t\tall_data += [primary_label + '/' +\n",
    "\t\t\t\t\t x for x in os.listdir(IMAGE_PATH + primary_label) if x.endswith('_0.npy')\n",
    "\t\t\t\t\t ]\n",
    "\telse:\n",
    "\t\tall_data += [primary_label + '/' + x for x in os.listdir(IMAGE_PATH + primary_label)]\n",
    "\n",
    "if ONLY_FIRST:\n",
    "\tall_data += ['maupar/XC123887_1.npy']\n",
    "\n",
    "base_data = {'file_name': [], 'label': []}\n",
    "for item in all_data:\n",
    "    base_data['file_name'].append(item)\n",
    "    base_data['label'].append(item.split('/')[0])\n",
    "\n",
    "results = pd.DataFrame(base_data, columns = ['file_name', 'label'])\n",
    "\n",
    "le = LabelEncoder()\n",
    "labels = le.fit_transform(results['label'])\n",
    "results['label'] = labels\n",
    "print(results.head())\n",
    "if ONLY_FIRST:\n",
    "\tresults.to_csv(\"annotated_data_only_first.csv\", index=False)\n",
    "\tANNOTATED_PATH = 'annotated_data_only_first.csv'\n",
    "else:\n",
    "\tresults.to_csv(\"annotated_data.csv\", index=False)"
   ],
   "metadata": {
    "collapsed": false,
    "pycharm": {
     "name": "#%%\n"
    }
   }
  },
  {
   "cell_type": "code",
   "execution_count": 237,
   "outputs": [
    {
     "name": "stdout",
     "output_type": "stream",
     "text": [
      "4\n",
      "                   file_name  label\n",
      "8721   maupar/XC123887_0.npy     90\n",
      "14852  maupar/XC123887_1.npy     90\n"
     ]
    }
   ],
   "source": [
    "data_set = pd.read_csv(ANNOTATED_PATH)\n",
    "values, counts = np.unique(data_set['label'], return_counts=True)\n",
    "print(values[np.argmin(counts)])\n",
    "print(data_set[data_set['label'] == 90])"
   ],
   "metadata": {
    "collapsed": false,
    "pycharm": {
     "name": "#%%\n"
    }
   }
  },
  {
   "cell_type": "code",
   "execution_count": 238,
   "outputs": [],
   "source": [
    "data_set = pd.read_csv(ANNOTATED_PATH)\n",
    "y_labels = data_set['label']\n",
    "x_train, x_val, y_train, y_val = train_test_split(data_set['file_name'].to_numpy(),\n",
    "\t\t\t\t\t\t\t\t\t\t\t\t  data_set['label'].to_numpy(),\n",
    "\t\t\t\t\t\t\t\t\t\t\t\t  test_size=0.25,\n",
    "\t\t\t\t\t\t\t\t\t\t\t\t  stratify=y_labels,\n",
    "\t\t\t\t\t\t\t\t\t\t\t\t  random_state=42)\n",
    "\n",
    "train_dataset = CustomDataset(x_train, y_train, IMAGE_PATH)\n",
    "val_dataset = CustomDataset(x_val, y_val, IMAGE_PATH)"
   ],
   "metadata": {
    "collapsed": false,
    "pycharm": {
     "name": "#%%\n"
    }
   }
  },
  {
   "cell_type": "code",
   "execution_count": 239,
   "outputs": [],
   "source": [
    "# load data\n",
    "# numTrainSamples = round(len(all_data) * TRAIN_SPLIT)\n",
    "# numValSamples = round(len(all_data) * VAL_SPLIT)\n",
    "#\n",
    "# data_set = CustomDataset(\"annotated_data.csv\", IMAGE_PATH)\n",
    "#\n",
    "# (trainData, valData) = random_split(data_set, [numTrainSamples, numValSamples],generator=torch.Generator().manual_seed(42))\n",
    "#\n",
    "# print(f\"len training: {len(trainData)}, len test: {len(valData)}\")"
   ],
   "metadata": {
    "collapsed": false,
    "pycharm": {
     "name": "#%%\n"
    }
   }
  },
  {
   "cell_type": "code",
   "execution_count": 240,
   "outputs": [],
   "source": [
    "trainDataLoader = DataLoader(train_dataset, batch_size=BATCH_SIZE)\n",
    "valDataLoader = DataLoader(val_dataset, batch_size=BATCH_SIZE)\n",
    "\n",
    "trainSteps = len(trainDataLoader.dataset) // BATCH_SIZE\n",
    "valSteps = len(valDataLoader.dataset) // BATCH_SIZE"
   ],
   "metadata": {
    "collapsed": false,
    "pycharm": {
     "name": "#%%\n"
    }
   }
  },
  {
   "cell_type": "code",
   "execution_count": 241,
   "outputs": [
    {
     "name": "stdout",
     "output_type": "stream",
     "text": [
      "[INFO] initializing the LeNet model...\n"
     ]
    }
   ],
   "source": [
    "# initialize the LeNet model\n",
    "print(\"[INFO] initializing the LeNet model...\")\n",
    "model = LeNet(\n",
    "\tnumChannels=3,\n",
    "\tclasses=len(train_dataset.classes)).to(device)\n",
    "# initialize our optimizer and loss function\n",
    "opt = Adam(model.parameters(), lr=INIT_LR)\n",
    "lossFn = nn.NLLLoss()\n",
    "# initialize a dictionary to store training history\n",
    "H = {\n",
    "\t\"train_loss\": [],\n",
    "\t\"train_acc\": [],\n",
    "\t\"val_loss\": [],\n",
    "\t\"val_acc\": [],\n",
    "\t\"f1score\": []\n",
    "}"
   ],
   "metadata": {
    "collapsed": false,
    "pycharm": {
     "name": "#%%\n"
    }
   }
  },
  {
   "cell_type": "code",
   "execution_count": 242,
   "outputs": [
    {
     "name": "stdout",
     "output_type": "stream",
     "text": [
      "[INFO] training the network...\n",
      "[INFO] starting training for epoch: 1 at 13:31:00\n"
     ]
    },
    {
     "name": "stderr",
     "output_type": "stream",
     "text": [
      "training progress: 100%|██████████| 175/175 [01:02<00:00,  2.78it/s]\n"
     ]
    },
    {
     "name": "stdout",
     "output_type": "stream",
     "text": [
      "[INFO] starting evaluation for epoch: 1 at 13:32:03\n"
     ]
    },
    {
     "name": "stderr",
     "output_type": "stream",
     "text": [
      "validation progress: 100%|██████████| 59/59 [00:10<00:00,  5.38it/s]\n"
     ]
    },
    {
     "name": "stdout",
     "output_type": "stream",
     "text": [
      "\n",
      "\t[INFO] EPOCH: 1/10\n",
      "\tTrain loss: 4.473688, Train accuracy: 0.0428\n",
      "\tVal loss: \t4.240673, Val accuracy:   0.0794\n",
      "\tF1: \t\t0.004747\n",
      "\t---------------------------------------------------- \n",
      "\n",
      "\t\n",
      "[INFO] starting training for epoch: 2 at 13:32:14\n"
     ]
    },
    {
     "name": "stderr",
     "output_type": "stream",
     "text": [
      "training progress: 100%|██████████| 175/175 [00:44<00:00,  3.92it/s]\n"
     ]
    },
    {
     "name": "stdout",
     "output_type": "stream",
     "text": [
      "[INFO] starting evaluation for epoch: 2 at 13:32:59\n"
     ]
    },
    {
     "name": "stderr",
     "output_type": "stream",
     "text": [
      "validation progress: 100%|██████████| 59/59 [00:07<00:00,  8.12it/s]\n"
     ]
    },
    {
     "name": "stdout",
     "output_type": "stream",
     "text": [
      "\n",
      "\t[INFO] EPOCH: 2/10\n",
      "\tTrain loss: 3.910903, Train accuracy: 0.1280\n",
      "\tVal loss: \t3.779133, Val accuracy:   0.1737\n",
      "\tF1: \t\t0.025218\n",
      "\t---------------------------------------------------- \n",
      "\n",
      "\t\n",
      "[INFO] starting training for epoch: 3 at 13:33:06\n"
     ]
    },
    {
     "name": "stderr",
     "output_type": "stream",
     "text": [
      "training progress: 100%|██████████| 175/175 [00:44<00:00,  3.92it/s]\n"
     ]
    },
    {
     "name": "stdout",
     "output_type": "stream",
     "text": [
      "[INFO] starting evaluation for epoch: 3 at 13:33:51\n"
     ]
    },
    {
     "name": "stderr",
     "output_type": "stream",
     "text": [
      "validation progress: 100%|██████████| 59/59 [00:07<00:00,  8.22it/s]\n"
     ]
    },
    {
     "name": "stdout",
     "output_type": "stream",
     "text": [
      "\n",
      "\t[INFO] EPOCH: 3/10\n",
      "\tTrain loss: 3.339407, Train accuracy: 0.2331\n",
      "\tVal loss: \t3.288565, Val accuracy:   0.2725\n",
      "\tF1: \t\t0.065843\n",
      "\t---------------------------------------------------- \n",
      "\n",
      "\t\n",
      "[INFO] starting training for epoch: 4 at 13:33:58\n"
     ]
    },
    {
     "name": "stderr",
     "output_type": "stream",
     "text": [
      "training progress: 100%|██████████| 175/175 [00:43<00:00,  3.98it/s]\n"
     ]
    },
    {
     "name": "stdout",
     "output_type": "stream",
     "text": [
      "[INFO] starting evaluation for epoch: 4 at 13:34:42\n"
     ]
    },
    {
     "name": "stderr",
     "output_type": "stream",
     "text": [
      "validation progress: 100%|██████████| 59/59 [00:07<00:00,  7.73it/s]\n"
     ]
    },
    {
     "name": "stdout",
     "output_type": "stream",
     "text": [
      "\n",
      "\t[INFO] EPOCH: 4/10\n",
      "\tTrain loss: 2.952696, Train accuracy: 0.2995\n",
      "\tVal loss: \t3.138791, Val accuracy:   0.3104\n",
      "\tF1: \t\t0.109114\n",
      "\t---------------------------------------------------- \n",
      "\n",
      "\t\n",
      "[INFO] starting training for epoch: 5 at 13:34:50\n"
     ]
    },
    {
     "name": "stderr",
     "output_type": "stream",
     "text": [
      "training progress: 100%|██████████| 175/175 [00:45<00:00,  3.87it/s]\n"
     ]
    },
    {
     "name": "stdout",
     "output_type": "stream",
     "text": [
      "[INFO] starting evaluation for epoch: 5 at 13:35:35\n"
     ]
    },
    {
     "name": "stderr",
     "output_type": "stream",
     "text": [
      "validation progress: 100%|██████████| 59/59 [00:07<00:00,  8.13it/s]\n"
     ]
    },
    {
     "name": "stdout",
     "output_type": "stream",
     "text": [
      "\n",
      "\t[INFO] EPOCH: 5/10\n",
      "\tTrain loss: 2.658770, Train accuracy: 0.3476\n",
      "\tVal loss: \t3.237622, Val accuracy:   0.2927\n",
      "\tF1: \t\t0.150125\n",
      "\t---------------------------------------------------- \n",
      "\n",
      "\t\n",
      "[INFO] starting training for epoch: 6 at 13:35:42\n"
     ]
    },
    {
     "name": "stderr",
     "output_type": "stream",
     "text": [
      "training progress: 100%|██████████| 175/175 [00:44<00:00,  3.89it/s]\n"
     ]
    },
    {
     "name": "stdout",
     "output_type": "stream",
     "text": [
      "[INFO] starting evaluation for epoch: 6 at 13:36:27\n"
     ]
    },
    {
     "name": "stderr",
     "output_type": "stream",
     "text": [
      "validation progress: 100%|██████████| 59/59 [00:07<00:00,  8.21it/s]\n"
     ]
    },
    {
     "name": "stdout",
     "output_type": "stream",
     "text": [
      "\n",
      "\t[INFO] EPOCH: 6/10\n",
      "\tTrain loss: 2.411505, Train accuracy: 0.3964\n",
      "\tVal loss: \t3.389801, Val accuracy:   0.3072\n",
      "\tF1: \t\t0.210700\n",
      "\t---------------------------------------------------- \n",
      "\n",
      "\t\n",
      "[INFO] starting training for epoch: 7 at 13:36:35\n"
     ]
    },
    {
     "name": "stderr",
     "output_type": "stream",
     "text": [
      "training progress: 100%|██████████| 175/175 [00:44<00:00,  3.96it/s]\n"
     ]
    },
    {
     "name": "stdout",
     "output_type": "stream",
     "text": [
      "[INFO] starting evaluation for epoch: 7 at 13:37:19\n"
     ]
    },
    {
     "name": "stderr",
     "output_type": "stream",
     "text": [
      "validation progress: 100%|██████████| 59/59 [00:06<00:00,  8.55it/s]\n"
     ]
    },
    {
     "name": "stdout",
     "output_type": "stream",
     "text": [
      "\n",
      "\t[INFO] EPOCH: 7/10\n",
      "\tTrain loss: 2.226404, Train accuracy: 0.4364\n",
      "\tVal loss: \t3.431740, Val accuracy:   0.3196\n",
      "\tF1: \t\t0.279347\n",
      "\t---------------------------------------------------- \n",
      "\n",
      "\t\n",
      "[INFO] starting training for epoch: 8 at 13:37:26\n"
     ]
    },
    {
     "name": "stderr",
     "output_type": "stream",
     "text": [
      "training progress: 100%|██████████| 175/175 [00:42<00:00,  4.10it/s]\n"
     ]
    },
    {
     "name": "stdout",
     "output_type": "stream",
     "text": [
      "[INFO] starting evaluation for epoch: 8 at 13:38:08\n"
     ]
    },
    {
     "name": "stderr",
     "output_type": "stream",
     "text": [
      "validation progress: 100%|██████████| 59/59 [00:06<00:00,  8.48it/s]\n"
     ]
    },
    {
     "name": "stdout",
     "output_type": "stream",
     "text": [
      "\n",
      "\t[INFO] EPOCH: 8/10\n",
      "\tTrain loss: 2.029660, Train accuracy: 0.4750\n",
      "\tVal loss: \t3.606254, Val accuracy:   0.3169\n",
      "\tF1: \t\t0.359082\n",
      "\t---------------------------------------------------- \n",
      "\n",
      "\t\n",
      "[INFO] starting training for epoch: 9 at 13:38:15\n"
     ]
    },
    {
     "name": "stderr",
     "output_type": "stream",
     "text": [
      "training progress: 100%|██████████| 175/175 [00:42<00:00,  4.13it/s]\n"
     ]
    },
    {
     "name": "stdout",
     "output_type": "stream",
     "text": [
      "[INFO] starting evaluation for epoch: 9 at 13:38:58\n"
     ]
    },
    {
     "name": "stderr",
     "output_type": "stream",
     "text": [
      "validation progress: 100%|██████████| 59/59 [00:06<00:00,  8.53it/s]\n"
     ]
    },
    {
     "name": "stdout",
     "output_type": "stream",
     "text": [
      "\n",
      "\t[INFO] EPOCH: 9/10\n",
      "\tTrain loss: 1.885446, Train accuracy: 0.5052\n",
      "\tVal loss: \t3.824669, Val accuracy:   0.3288\n",
      "\tF1: \t\t0.415081\n",
      "\t---------------------------------------------------- \n",
      "\n",
      "\t\n",
      "[INFO] starting training for epoch: 10 at 13:39:05\n"
     ]
    },
    {
     "name": "stderr",
     "output_type": "stream",
     "text": [
      "training progress: 100%|██████████| 175/175 [00:42<00:00,  4.08it/s]\n"
     ]
    },
    {
     "name": "stdout",
     "output_type": "stream",
     "text": [
      "[INFO] starting evaluation for epoch: 10 at 13:39:48\n"
     ]
    },
    {
     "name": "stderr",
     "output_type": "stream",
     "text": [
      "validation progress: 100%|██████████| 59/59 [00:07<00:00,  7.70it/s]"
     ]
    },
    {
     "name": "stdout",
     "output_type": "stream",
     "text": [
      "\n",
      "\t[INFO] EPOCH: 10/10\n",
      "\tTrain loss: 1.699067, Train accuracy: 0.5406\n",
      "\tVal loss: \t4.052101, Val accuracy:   0.3067\n",
      "\tF1: \t\t0.494244\n",
      "\t---------------------------------------------------- \n",
      "\n",
      "\t\n",
      "[INFO] total time taken to train the model: 8.91min\n"
     ]
    },
    {
     "name": "stderr",
     "output_type": "stream",
     "text": [
      "\n"
     ]
    }
   ],
   "source": [
    "\n",
    "# measure how long training is going to take\n",
    "print(\"[INFO] training the network...\")\n",
    "startTime = time.time()\n",
    "\n",
    "# loop over our epochs\n",
    "for e in range(0, EPOCHS):\n",
    "\tprint(f\"[INFO] starting training for epoch: {e + 1} at {datetime.now().strftime('%H:%M:%S')}\")\n",
    "\tpreds = []\n",
    "\ttarget = []\n",
    "\t# set the model in training mode\n",
    "\tmodel.train()\n",
    "\t# initialize the total training and validation loss\n",
    "\ttotalTrainLoss = 0\n",
    "\ttotalValLoss = 0\n",
    "\t# initialize the number of correct predictions in the training\n",
    "\t# and validation step\n",
    "\ttrainCorrect = 0\n",
    "\tvalCorrect = 0\n",
    "\t# loop over the training set\n",
    "\tfor data in tqdm(trainDataLoader, desc=\"training progress\"):\n",
    "\t\t# send the input to the device\n",
    "\t\tx, y = data\n",
    "\t\tx = x.transpose(1, 3)\n",
    "\t\tx = x.transpose(2, 3)\n",
    "\t\tx = x.float()\n",
    "\t\tx, y = (x.to(device), y.to(device))\n",
    "\t\t# perform a forward pass and calculate the training loss\n",
    "\t\tpred = model(x)\n",
    "\t\tloss = lossFn(pred, y)\n",
    "\t\t# zero out the gradients, perform the backpropagation step,\n",
    "\t\t# and update the weights\n",
    "\t\topt.zero_grad()\n",
    "\t\tloss.backward()\n",
    "\t\topt.step()\n",
    "\t\t# add the loss to the total training loss so far and\n",
    "\t\t# calculate the number of correct predictions\n",
    "\t\ttotalTrainLoss += loss\n",
    "\t\ttrainCorrect += (pred.argmax(1) == y).type(torch.float).sum().item()\n",
    "\t\t# add predictions and targets for F1score tracking\n",
    "\t\tfor item in pred:\n",
    "\t\t\tpreds.append(np.argmax(item.cpu().detach().numpy()))\n",
    "\t\ttarget.extend(y.cpu().detach().numpy())\n",
    "\n",
    "\t# switch off autograd for evaluation\n",
    "\twith torch.no_grad():\n",
    "\t\tprint(f\"[INFO] starting evaluation for epoch: {e + 1} at {datetime.now().strftime('%H:%M:%S')}\")\n",
    "\t\t# set the model in evaluation mode\n",
    "\t\tmodel.eval()\n",
    "\t\t# loop over the validation set\n",
    "\t\tfor (x, y) in tqdm(valDataLoader, desc=\"validation progress\"):\n",
    "\t\t\tx = x.transpose(1, 3)\n",
    "\t\t\tx = x.transpose(2, 3)\n",
    "\t\t\tx = x.float()\n",
    "\t\t\t# send the input to the device\n",
    "\t\t\t(x, y) = (x.to(device), y.to(device))\n",
    "\t\t\t# make the predictions and calculate the validation loss\n",
    "\t\t\tpred = model(x)\n",
    "\t\t\ttotalValLoss += lossFn(pred, y)\n",
    "\t\t\t# calculate the number of correct predictions\n",
    "\t\t\tvalCorrect += (pred.argmax(1) == y).type(torch.float).sum().item()\n",
    "\n",
    "\t# calculate the average training and validation loss\n",
    "\tavgTrainLoss = totalTrainLoss / trainSteps\n",
    "\tavgValLoss = totalValLoss / valSteps\n",
    "\t# calculate the training and validation accuracy\n",
    "\ttrainCorrect = trainCorrect / len(trainDataLoader.dataset)\n",
    "\tvalCorrect = valCorrect / len(valDataLoader.dataset)\n",
    "\n",
    "\tf1epoch = f1_score(target, preds, average='macro')\n",
    "\t# update our training history\n",
    "\tH[\"train_loss\"].append(avgTrainLoss.cpu().detach().numpy())\n",
    "\tH[\"train_acc\"].append(trainCorrect)\n",
    "\tH[\"val_loss\"].append(avgValLoss.cpu().detach().numpy())\n",
    "\tH[\"val_acc\"].append(valCorrect)\n",
    "\tH['f1score'].append(f1epoch)\n",
    "\t# print the model training and validation information\n",
    "\tprint(f\"\"\"\n",
    "\t[INFO] EPOCH: {e + 1}/{EPOCHS}\n",
    "\tTrain loss: {avgTrainLoss :.6f}, Train accuracy: {trainCorrect :.4f}\n",
    "\tVal loss: \t{avgValLoss :.6f}, Val accuracy:   {valCorrect :.4f}\n",
    "\tF1: \t\t{f1epoch :.6f}\n",
    "\t---------------------------------------------------- \\n\n",
    "\t\"\"\")\n",
    "\n",
    "# finish measuring how long training took\n",
    "endTime = time.time()\n",
    "print(f\"[INFO] total time taken to train the model: {(endTime - startTime) / 60 :.2f}min\")"
   ],
   "metadata": {
    "collapsed": false,
    "pycharm": {
     "name": "#%%\n"
    }
   }
  },
  {
   "cell_type": "code",
   "execution_count": 243,
   "outputs": [
    {
     "data": {
      "text/plain": "<matplotlib.legend.Legend at 0x21e8bfd8970>"
     },
     "execution_count": 243,
     "metadata": {},
     "output_type": "execute_result"
    },
    {
     "data": {
      "text/plain": "<Figure size 1440x1296 with 1 Axes>",
      "image/png": "[encoded data removed]"
     },
     "metadata": {},
     "output_type": "display_data"
    }
   ],
   "source": [
    "# plot the training loss and accuracy\n",
    "plt.style.use(\"ggplot\")\n",
    "plt.rcParams['font.size'] = 20\n",
    "plt.figure(figsize=(20, 18))\n",
    "plt.plot(H[\"train_loss\"], label=\"train_loss\")\n",
    "plt.plot(H[\"val_loss\"], label=\"val_loss\")\n",
    "plt.plot(H[\"train_acc\"], label=\"train_acc\")\n",
    "plt.plot(H[\"val_acc\"], label=\"val_acc\")\n",
    "plt.plot(H[\"f1score\"], label=\"f1_score\")\n",
    "plt.title(\"Training Loss, Accuracy and F1 on Dataset\")\n",
    "plt.xlabel(\"Epoch #\")\n",
    "plt.ylabel(\"Loss/Accuracy/F1\")\n",
    "plt.legend(loc=\"lower left\")"
   ],
   "metadata": {
    "collapsed": false,
    "pycharm": {
     "name": "#%%\n"
    }
   }
  },
  {
   "cell_type": "code",
   "execution_count": 244,
   "outputs": [
    {
     "name": "stdout",
     "output_type": "stream",
     "text": [
      "(224, 313, 3)\n",
      "False\n",
      "[[[  0   0   0]\n",
      "  [  0   0   0]\n",
      "  [104 104 104]\n",
      "  ...\n",
      "  [216 216 216]\n",
      "  [198 198 198]\n",
      "  [217 217 217]]\n",
      "\n",
      " [[  0   0   0]\n",
      "  [  0   0   0]\n",
      "  [111 111 111]\n",
      "  ...\n",
      "  [220 220 220]\n",
      "  [223 223 223]\n",
      "  [230 230 230]]\n",
      "\n",
      " [[  0   0   0]\n",
      "  [  0   0   0]\n",
      "  [114 114 114]\n",
      "  ...\n",
      "  [232 232 232]\n",
      "  [235 235 235]\n",
      "  [234 234 234]]\n",
      "\n",
      " ...\n",
      "\n",
      " [[  0   0   0]\n",
      "  [  0   0   0]\n",
      "  [  0   0   0]\n",
      "  ...\n",
      "  [ 36  36  36]\n",
      "  [ 45  45  45]\n",
      "  [ 53  53  53]]\n",
      "\n",
      " [[  0   0   0]\n",
      "  [  0   0   0]\n",
      "  [  0   0   0]\n",
      "  ...\n",
      "  [ 10  10  10]\n",
      "  [ 15  15  15]\n",
      "  [ 45  45  45]]\n",
      "\n",
      " [[  0   0   0]\n",
      "  [  0   0   0]\n",
      "  [  0   0   0]\n",
      "  ...\n",
      "  [  0   0   0]\n",
      "  [  0   0   0]\n",
      "  [ 45  45  45]]]\n"
     ]
    }
   ],
   "source": [
    "path_name = '../birdclef-2022-data/train_images/afrsil1/XC125458_0.npy'\n",
    "spec = np.load(path_name)\n",
    "\n",
    "print(spec.shape)\n",
    "print(np.array_equal(spec[0], spec[1]))\n",
    "print(spec)"
   ],
   "metadata": {
    "collapsed": false,
    "pycharm": {
     "name": "#%%\n"
    }
   }
  },
  {
   "cell_type": "code",
   "execution_count": 245,
   "outputs": [],
   "source": [
    "import torch, gc\n",
    "def empy_gpu_cache():\n",
    "\tgc.collect()\n",
    "\ttorch.cuda.empty_cache()"
   ],
   "metadata": {
    "collapsed": false,
    "pycharm": {
     "name": "#%%\n"
    }
   }
  },
  {
   "cell_type": "code",
   "execution_count": 246,
   "outputs": [],
   "source": [
    "#empy_gpu_cache()"
   ],
   "metadata": {
    "collapsed": false,
    "pycharm": {
     "name": "#%%\n"
    }
   }
  },
  {
   "cell_type": "code",
   "execution_count": 246,
   "outputs": [],
   "source": [],
   "metadata": {
    "collapsed": false,
    "pycharm": {
     "name": "#%%\n"
    }
   }
  }
 ],
 "metadata": {
  "kernelspec": {
   "display_name": "Python 3",
   "language": "python",
   "name": "python3"
  },
  "language_info": {
   "codemirror_mode": {
    "name": "ipython",
    "version": 2
   },
   "file_extension": ".py",
   "mimetype": "text/x-python",
   "name": "python",
   "nbconvert_exporter": "python",
   "pygments_lexer": "ipython2",
   "version": "2.7.6"
  }
 },
 "nbformat": 4,
 "nbformat_minor": 0
}
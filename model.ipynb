{
 "cells": [
  {
   "cell_type": "code",
   "execution_count": 56,
   "outputs": [],
   "source": [
    "# import the necessary packages\n",
    "from torch.nn import Module\n",
    "from torch.nn import Conv2d\n",
    "from torch.nn import Linear\n",
    "from torch.nn import MaxPool2d\n",
    "from torch.nn import ReLU\n",
    "from torch.nn import LogSoftmax\n",
    "from torch import flatten\n",
    "import numpy as np\n",
    "import pandas as pd\n",
    "import torch\n",
    "import os\n",
    "from torch.utils.data import Dataset\n",
    "from sklearn.metrics import classification_report\n",
    "from torch.utils.data import random_split\n",
    "from torch.utils.data import DataLoader\n",
    "from torchvision.transforms import ToTensor\n",
    "from torch.optim import Adam\n",
    "from torch import nn\n",
    "import matplotlib.pyplot as plt\n",
    "import time\n",
    "from datetime import datetime\n",
    "from sklearn.metrics import f1_score\n",
    "from tqdm import tqdm"
   ],
   "metadata": {
    "collapsed": false,
    "pycharm": {
     "name": "#%%\n"
    }
   }
  },
  {
   "cell_type": "code",
   "execution_count": 139,
   "outputs": [],
   "source": [
    "class LeNet(Module):\n",
    "\tdef __init__(self, numChannels, classes):\n",
    "\t\t# call the parent constructor\n",
    "\t\tsuper(LeNet, self).__init__()\n",
    "\n",
    "\t\t# initialize first set of CONV => RELU => POOL layers\n",
    "\t\tself.conv1 = Conv2d(in_channels=numChannels, out_channels=20,\n",
    "\t\t\tkernel_size=(5, 5))\n",
    "\t\tself.relu1 = ReLU()\n",
    "\t\tself.maxpool1 = MaxPool2d(kernel_size=(2, 2), stride=(2, 2))\n",
    "\n",
    "\t\t# initialize second set of CONV => RELU => POOL layers\n",
    "\t\tself.conv2 = Conv2d(in_channels=20, out_channels=30,\n",
    "\t\t\tkernel_size=(5, 5))\n",
    "\t\tself.relu2 = ReLU()\n",
    "\t\tself.maxpool2 = MaxPool2d(kernel_size=(2, 2), stride=(2, 2))\n",
    "\n",
    "\t\tself.conv3 = Conv2d(in_channels=30, out_channels=40,\n",
    "\t\t\tkernel_size=(5, 5))\n",
    "\t\tself.relu3 = ReLU()\n",
    "\t\tself.maxpool3 = MaxPool2d(kernel_size=(2, 2), stride=(2, 2))\n",
    "\n",
    "\t\tself.conv4 = Conv2d(in_channels=40, out_channels=50,\n",
    "\t\t\tkernel_size=(5, 5))\n",
    "\t\tself.relu4 = ReLU()\n",
    "\t\tself.maxpool4 = MaxPool2d(kernel_size=(2, 2), stride=(2, 2))\n",
    "\n",
    "\t\tself.conv5 = Conv2d(in_channels=50, out_channels=60,\n",
    "\t\t\tkernel_size=(5, 5))\n",
    "\t\tself.relu5 = ReLU()\n",
    "\t\tself.maxpool5 = MaxPool2d(kernel_size=(2, 2), stride=(2, 2))\n",
    "\n",
    "\t\t# initialize first (and only) set of FC => RELU layers\n",
    "\t\tself.fc1 = Linear(in_features=900, out_features=500)\n",
    "\t\tself.relu6 = ReLU()\n",
    "\n",
    "\t\t# initialize our softmax classifier\n",
    "\t\tself.fc2 = Linear(in_features=500, out_features=classes)\n",
    "\t\tself.logSoftmax = LogSoftmax(dim=1)\n",
    "\n",
    "\tdef forward(self, x):\n",
    "\t\t# pass the input through our first set of CONV => RELU =>\n",
    "\t\t# POOL layers\n",
    "\t\tx = self.conv1(x)\n",
    "\t\t#print(f\"shape after first conv: {x.shape}\")\n",
    "\t\tx = self.relu1(x)\n",
    "\t\tx = self.maxpool1(x)\n",
    "\t\t#print(f\"shape after first maxpool: {x.shape}\")\n",
    "\t\t# pass the output from the previous layer through the second\n",
    "\t\t# set of CONV => RELU => POOL layers\n",
    "\t\tx = self.conv2(x)\n",
    "\t\t#print(f\"shape after second conv: {x.shape}\")\n",
    "\t\tx = self.relu2(x)\n",
    "\t\tx = self.maxpool2(x)\n",
    "\t\t#print(f\"shape after second maxpool: {x.shape}\")\n",
    "\n",
    "\t\tx = self.conv3(x)\n",
    "\t\t#print(f\"shape after third conv: {x.shape}\")\n",
    "\t\tx = self.relu3(x)\n",
    "\t\tx = self.maxpool3(x)\n",
    "\t\t#print(f\"shape after third maxpool: {x.shape}\")\n",
    "\n",
    "\t\tx = self.conv4(x)\n",
    "\t\t#print(f\"shape after fourth conv: {x.shape}\")\n",
    "\t\tx = self.relu4(x)\n",
    "\t\tx = self.maxpool4(x)\n",
    "\t\t#print(f\"shape after fourth maxpool: {x.shape}\")\n",
    "\n",
    "\t\tx = self.conv5(x)\n",
    "\t\t#print(f\"shape after fifth conv: {x.shape}\")\n",
    "\t\tx = self.relu5(x)\n",
    "\t\tx = self.maxpool5(x)\n",
    "\t\t#print(f\"shape after fifth maxpool: {x.shape}\")\n",
    "\t\t# flatten the output from the previous layer and pass it\n",
    "\t\t# through our only set of FC => RELU layers\n",
    "\t\tx = flatten(x, 1)\n",
    "\t\t#print(f\"shape after flatten: {x.shape}\")\n",
    "\t\tx = self.fc1(x)\n",
    "\t\tx = self.relu6(x)\n",
    "\t\t# pass the output to our softmax classifier to get our output\n",
    "\t\t# predictions\n",
    "\t\tx = self.fc2(x)\n",
    "\t\toutput = self.logSoftmax(x)\n",
    "\t\t# return the output predictions\n",
    "\t\treturn output"
   ],
   "metadata": {
    "collapsed": false,
    "pycharm": {
     "name": "#%%\n"
    }
   }
  },
  {
   "cell_type": "code",
   "execution_count": 140,
   "outputs": [],
   "source": [
    "class CustomDataset(Dataset):\n",
    "\tdef __init__(self, annotations_file, img_dir):\n",
    "\t\tself.img_labels = pd.read_csv(annotations_file)\n",
    "\t\tself.img_dir = img_dir\n",
    "\t\tself.classes = self.img_labels['label'].unique()\n",
    "\n",
    "\n",
    "\tdef __len__(self):\n",
    "\t\treturn len(self.img_labels)\n",
    "\n",
    "\n",
    "\tdef __getitem__(self, idx):\n",
    "\t\timg_path = os.path.join(self.img_dir, self.img_labels.iloc[idx, 0])\n",
    "\t\timage = np.load(img_path)\n",
    "\t\tlabel = self.img_labels.iloc[idx, 1]\n",
    "\t\treturn image, label\n"
   ],
   "metadata": {
    "collapsed": false,
    "pycharm": {
     "name": "#%%\n"
    }
   }
  },
  {
   "cell_type": "code",
   "execution_count": 59,
   "outputs": [
    {
     "name": "stdout",
     "output_type": "stream",
     "text": [
      "cuda\n"
     ]
    }
   ],
   "source": [
    "AUDIO_PATH = '../birdclef-2022-data/train_audio'\n",
    "IMAGE_PATH = '../birdclef-2022-data/train_images/'\n",
    "\n",
    "# define training hyperparameters\n",
    "INIT_LR = 1e-3\n",
    "BATCH_SIZE = 64\n",
    "EPOCHS = 10\n",
    "# define the train and val splits\n",
    "TRAIN_SPLIT = 0.75\n",
    "VAL_SPLIT = 1 - TRAIN_SPLIT\n",
    "# set the device we will be using to train the model\n",
    "device = torch.device(\"cuda\" if torch.cuda.is_available() else \"cpu\")\n",
    "print(device)"
   ],
   "metadata": {
    "collapsed": false,
    "pycharm": {
     "name": "#%%\n"
    }
   }
  },
  {
   "cell_type": "code",
   "execution_count": 60,
   "outputs": [
    {
     "name": "stdout",
     "output_type": "stream",
     "text": [
      "                file_name  label\n",
      "0  afrsil1/XC125458_0.npy      0\n",
      "1  afrsil1/XC125458_1.npy      0\n",
      "2  afrsil1/XC125458_2.npy      0\n",
      "3  afrsil1/XC175522_0.npy      0\n",
      "4  afrsil1/XC175522_1.npy      0\n"
     ]
    }
   ],
   "source": [
    "# collect data about data structure\n",
    "from sklearn.preprocessing import LabelEncoder\n",
    "all_data = []\n",
    "for primary_label in os.listdir(IMAGE_PATH):\n",
    "    all_data += [primary_label + '/' + x for x in os.listdir(IMAGE_PATH + primary_label)]\n",
    "\n",
    "base_data = {'file_name': [], 'label': []}\n",
    "for item in all_data:\n",
    "    base_data['file_name'].append(item)\n",
    "    base_data['label'].append(item.split('/')[0])\n",
    "\n",
    "results = pd.DataFrame(base_data, columns = ['file_name', 'label'])\n",
    "\n",
    "le = LabelEncoder()\n",
    "labels = le.fit_transform(results['label'])\n",
    "results['label'] = labels\n",
    "print(results.head())\n",
    "results.to_csv(\"annotated_data.csv\", index=False)"
   ],
   "metadata": {
    "collapsed": false,
    "pycharm": {
     "name": "#%%\n"
    }
   }
  },
  {
   "cell_type": "code",
   "execution_count": 61,
   "outputs": [
    {
     "name": "stdout",
     "output_type": "stream",
     "text": [
      "len training: 108632, len test: 36211\n"
     ]
    }
   ],
   "source": [
    "# load data\n",
    "numTrainSamples = round(len(all_data) * TRAIN_SPLIT)\n",
    "numValSamples = round(len(all_data) * VAL_SPLIT)\n",
    "\n",
    "data_set = CustomDataset(\"annotated_data.csv\", IMAGE_PATH)\n",
    "\n",
    "(trainData, valData) = random_split(data_set, [numTrainSamples, numValSamples],generator=torch.Generator().manual_seed(42))\n",
    "\n",
    "print(f\"len training: {len(trainData)}, len test: {len(valData)}\")"
   ],
   "metadata": {
    "collapsed": false,
    "pycharm": {
     "name": "#%%\n"
    }
   }
  },
  {
   "cell_type": "code",
   "execution_count": 62,
   "outputs": [],
   "source": [
    "trainDataLoader = DataLoader(trainData, shuffle=True, batch_size=BATCH_SIZE)\n",
    "valDataLoader = DataLoader(valData, batch_size=BATCH_SIZE)\n",
    "\n",
    "trainSteps = len(trainDataLoader.dataset) // BATCH_SIZE\n",
    "valSteps = len(valDataLoader.dataset) // BATCH_SIZE"
   ],
   "metadata": {
    "collapsed": false,
    "pycharm": {
     "name": "#%%\n"
    }
   }
  },
  {
   "cell_type": "code",
   "execution_count": 63,
   "outputs": [
    {
     "name": "stdout",
     "output_type": "stream",
     "text": [
      "[INFO] initializing the LeNet model...\n"
     ]
    }
   ],
   "source": [
    "# initialize the LeNet model\n",
    "print(\"[INFO] initializing the LeNet model...\")\n",
    "model = LeNet(\n",
    "\tnumChannels=3,\n",
    "\tclasses=len(data_set.classes)).to(device)\n",
    "# initialize our optimizer and loss function\n",
    "opt = Adam(model.parameters(), lr=INIT_LR)\n",
    "lossFn = nn.NLLLoss()\n",
    "# initialize a dictionary to store training history\n",
    "H = {\n",
    "\t\"train_loss\": [],\n",
    "\t\"train_acc\": [],\n",
    "\t\"val_loss\": [],\n",
    "\t\"val_acc\": [],\n",
    "\t\"f1score\": []\n",
    "}"
   ],
   "metadata": {
    "collapsed": false,
    "pycharm": {
     "name": "#%%\n"
    }
   }
  },
  {
   "cell_type": "code",
   "execution_count": null,
   "outputs": [
    {
     "name": "stdout",
     "output_type": "stream",
     "text": [
      "[INFO] training the network...\n",
      "[INFO] starting training for epoch: 1 at 15:11:35\n"
     ]
    },
    {
     "name": "stderr",
     "output_type": "stream",
     "text": [
      "training progress: 100%|██████████| 1698/1698 [12:09<00:00,  2.33it/s] \n"
     ]
    },
    {
     "name": "stdout",
     "output_type": "stream",
     "text": [
      "[INFO] starting evaluation for epoch: 1 at 15:23:45\n"
     ]
    },
    {
     "name": "stderr",
     "output_type": "stream",
     "text": [
      "validation progress: 100%|██████████| 566/566 [02:46<00:00,  3.40it/s]\n"
     ]
    },
    {
     "name": "stdout",
     "output_type": "stream",
     "text": [
      "[INFO] EPOCH: 1/10\n",
      "Train loss: 3.077369, Train accuracy: 0.2961\n",
      "Val loss: 2.521697, Val accuracy: 0.4076\n",
      "\n",
      "F1: 0.09782067358612549\n",
      "[INFO] starting training for epoch: 2 at 15:26:32\n"
     ]
    },
    {
     "name": "stderr",
     "output_type": "stream",
     "text": [
      "training progress: 100%|██████████| 1698/1698 [10:54<00:00,  2.59it/s] \n"
     ]
    },
    {
     "name": "stdout",
     "output_type": "stream",
     "text": [
      "[INFO] starting evaluation for epoch: 2 at 15:37:26\n"
     ]
    },
    {
     "name": "stderr",
     "output_type": "stream",
     "text": [
      "validation progress: 100%|██████████| 566/566 [02:34<00:00,  3.66it/s]\n"
     ]
    },
    {
     "name": "stdout",
     "output_type": "stream",
     "text": [
      "[INFO] EPOCH: 2/10\n",
      "Train loss: 2.321003, Train accuracy: 0.4509\n",
      "Val loss: 2.216394, Val accuracy: 0.4771\n",
      "\n",
      "F1: 0.22562206761369066\n",
      "[INFO] starting training for epoch: 3 at 15:40:01\n"
     ]
    },
    {
     "name": "stderr",
     "output_type": "stream",
     "text": [
      "training progress: 100%|██████████| 1698/1698 [09:12<00:00,  3.08it/s]\n"
     ]
    },
    {
     "name": "stdout",
     "output_type": "stream",
     "text": [
      "[INFO] starting evaluation for epoch: 3 at 15:49:13\n"
     ]
    },
    {
     "name": "stderr",
     "output_type": "stream",
     "text": [
      "validation progress: 100%|██████████| 566/566 [01:52<00:00,  5.05it/s]\n"
     ]
    },
    {
     "name": "stdout",
     "output_type": "stream",
     "text": [
      "[INFO] EPOCH: 3/10\n",
      "Train loss: 2.045495, Train accuracy: 0.5059\n",
      "Val loss: 2.066616, Val accuracy: 0.4995\n",
      "\n",
      "F1: 0.29887983317472205\n",
      "[INFO] starting training for epoch: 4 at 15:51:05\n"
     ]
    },
    {
     "name": "stderr",
     "output_type": "stream",
     "text": [
      "training progress: 100%|██████████| 1698/1698 [09:12<00:00,  3.07it/s]\n"
     ]
    },
    {
     "name": "stdout",
     "output_type": "stream",
     "text": [
      "[INFO] starting evaluation for epoch: 4 at 16:00:18\n"
     ]
    },
    {
     "name": "stderr",
     "output_type": "stream",
     "text": [
      "validation progress: 100%|██████████| 566/566 [01:50<00:00,  5.13it/s]\n"
     ]
    },
    {
     "name": "stdout",
     "output_type": "stream",
     "text": [
      "[INFO] EPOCH: 4/10\n",
      "Train loss: 1.874745, Train accuracy: 0.5405\n",
      "Val loss: 1.971375, Val accuracy: 0.5287\n",
      "\n",
      "F1: 0.3602961645754498\n",
      "[INFO] starting training for epoch: 5 at 16:02:09\n"
     ]
    },
    {
     "name": "stderr",
     "output_type": "stream",
     "text": [
      "training progress: 100%|██████████| 1698/1698 [09:13<00:00,  3.07it/s]\n"
     ]
    },
    {
     "name": "stdout",
     "output_type": "stream",
     "text": [
      "[INFO] starting evaluation for epoch: 5 at 16:11:22\n"
     ]
    },
    {
     "name": "stderr",
     "output_type": "stream",
     "text": [
      "validation progress: 100%|██████████| 566/566 [01:51<00:00,  5.08it/s]\n"
     ]
    },
    {
     "name": "stdout",
     "output_type": "stream",
     "text": [
      "[INFO] EPOCH: 5/10\n",
      "Train loss: 1.749967, Train accuracy: 0.5662\n",
      "Val loss: 1.888813, Val accuracy: 0.5451\n",
      "\n",
      "F1: 0.4053927652242468\n",
      "[INFO] starting training for epoch: 6 at 16:13:14\n"
     ]
    },
    {
     "name": "stderr",
     "output_type": "stream",
     "text": [
      "training progress: 100%|██████████| 1698/1698 [09:48<00:00,  2.88it/s] \n"
     ]
    },
    {
     "name": "stdout",
     "output_type": "stream",
     "text": [
      "[INFO] starting evaluation for epoch: 6 at 16:23:03\n"
     ]
    },
    {
     "name": "stderr",
     "output_type": "stream",
     "text": [
      "validation progress: 100%|██████████| 566/566 [02:05<00:00,  4.50it/s]\n"
     ]
    },
    {
     "name": "stdout",
     "output_type": "stream",
     "text": [
      "[INFO] EPOCH: 6/10\n",
      "Train loss: 1.655657, Train accuracy: 0.5862\n",
      "Val loss: 1.854708, Val accuracy: 0.5586\n",
      "\n",
      "F1: 0.44434558047086964\n",
      "[INFO] starting training for epoch: 7 at 16:25:09\n"
     ]
    },
    {
     "name": "stderr",
     "output_type": "stream",
     "text": [
      "training progress: 100%|██████████| 1698/1698 [09:34<00:00,  2.96it/s]\n"
     ]
    },
    {
     "name": "stdout",
     "output_type": "stream",
     "text": [
      "[INFO] starting evaluation for epoch: 7 at 16:34:43\n"
     ]
    },
    {
     "name": "stderr",
     "output_type": "stream",
     "text": [
      "validation progress: 100%|██████████| 566/566 [02:12<00:00,  4.27it/s]\n"
     ]
    },
    {
     "name": "stdout",
     "output_type": "stream",
     "text": [
      "[INFO] EPOCH: 7/10\n",
      "Train loss: 1.578256, Train accuracy: 0.6011\n",
      "Val loss: 1.854165, Val accuracy: 0.5598\n",
      "\n",
      "F1: 0.4781129489247776\n",
      "[INFO] starting training for epoch: 8 at 16:36:56\n"
     ]
    },
    {
     "name": "stderr",
     "output_type": "stream",
     "text": [
      "training progress: 100%|██████████| 1698/1698 [09:03<00:00,  3.12it/s]\n"
     ]
    },
    {
     "name": "stdout",
     "output_type": "stream",
     "text": [
      "[INFO] starting evaluation for epoch: 8 at 16:45:59\n"
     ]
    },
    {
     "name": "stderr",
     "output_type": "stream",
     "text": [
      "validation progress: 100%|██████████| 566/566 [01:50<00:00,  5.10it/s]\n"
     ]
    },
    {
     "name": "stdout",
     "output_type": "stream",
     "text": [
      "[INFO] EPOCH: 8/10\n",
      "Train loss: 1.501920, Train accuracy: 0.6189\n",
      "Val loss: 1.834774, Val accuracy: 0.5648\n",
      "\n",
      "F1: 0.5064715203292202\n",
      "[INFO] starting training for epoch: 9 at 16:47:50\n"
     ]
    },
    {
     "name": "stderr",
     "output_type": "stream",
     "text": [
      "training progress: 100%|██████████| 1698/1698 [09:02<00:00,  3.13it/s]\n"
     ]
    },
    {
     "name": "stdout",
     "output_type": "stream",
     "text": [
      "[INFO] starting evaluation for epoch: 9 at 16:56:53\n"
     ]
    },
    {
     "name": "stderr",
     "output_type": "stream",
     "text": [
      "validation progress: 100%|██████████| 566/566 [01:50<00:00,  5.13it/s]\n"
     ]
    },
    {
     "name": "stdout",
     "output_type": "stream",
     "text": [
      "[INFO] EPOCH: 9/10\n",
      "Train loss: 1.446903, Train accuracy: 0.6291\n",
      "Val loss: 1.837755, Val accuracy: 0.5631\n",
      "\n",
      "F1: 0.5290182159578656\n",
      "[INFO] starting training for epoch: 10 at 16:58:43\n"
     ]
    },
    {
     "name": "stderr",
     "output_type": "stream",
     "text": [
      "training progress: 100%|██████████| 1698/1698 [09:06<00:00,  3.11it/s]\n"
     ]
    },
    {
     "name": "stdout",
     "output_type": "stream",
     "text": [
      "[INFO] starting evaluation for epoch: 10 at 17:07:50\n"
     ]
    },
    {
     "name": "stderr",
     "output_type": "stream",
     "text": [
      "validation progress: 100%|██████████| 566/566 [01:51<00:00,  5.10it/s]\n"
     ]
    },
    {
     "name": "stdout",
     "output_type": "stream",
     "text": [
      "[INFO] EPOCH: 10/10\n",
      "Train loss: 1.393699, Train accuracy: 0.6426\n",
      "Val loss: 1.820910, Val accuracy: 0.5718\n",
      "\n",
      "F1: 0.5456486636729382\n",
      "[INFO] total time taken to train the model: 7085.95s\n"
     ]
    }
   ],
   "source": [
    "\n",
    "# measure how long training is going to take\n",
    "print(\"[INFO] training the network...\")\n",
    "startTime = time.time()\n",
    "\n",
    "# loop over our epochs\n",
    "for e in range(0, EPOCHS):\n",
    "\tprint(f\"[INFO] starting training for epoch: {e + 1} at {datetime.now().strftime('%H:%M:%S')}\")\n",
    "\tpreds = []\n",
    "\ttarget = []\n",
    "\t# set the model in training mode\n",
    "\tmodel.train()\n",
    "\t# initialize the total training and validation loss\n",
    "\ttotalTrainLoss = 0\n",
    "\ttotalValLoss = 0\n",
    "\t# initialize the number of correct predictions in the training\n",
    "\t# and validation step\n",
    "\ttrainCorrect = 0\n",
    "\tvalCorrect = 0\n",
    "\t# loop over the training set\n",
    "\tfor data in tqdm(trainDataLoader, desc=\"training progress\"):\n",
    "\t\t# send the input to the device\n",
    "\t\tx, y = data\n",
    "\t\tx = x.transpose(1, 3)\n",
    "\t\tx = x.transpose(2, 3)\n",
    "\t\tx = x.float()\n",
    "\t\tx, y = (x.to(device), y.to(device))\n",
    "\t\t# perform a forward pass and calculate the training loss\n",
    "\t\tpred = model(x)\n",
    "\t\tloss = lossFn(pred, y)\n",
    "\t\t# zero out the gradients, perform the backpropagation step,\n",
    "\t\t# and update the weights\n",
    "\t\topt.zero_grad()\n",
    "\t\tloss.backward()\n",
    "\t\topt.step()\n",
    "\t\t# add the loss to the total training loss so far and\n",
    "\t\t# calculate the number of correct predictions\n",
    "\t\ttotalTrainLoss += loss\n",
    "\t\ttrainCorrect += (pred.argmax(1) == y).type(torch.float).sum().item()\n",
    "\t\t# add predictions and targets for F1score tracking\n",
    "\t\tfor item in pred:\n",
    "\t\t\tpreds.append(np.argmax(item.cpu().detach().numpy()))\n",
    "\t\ttarget.extend(y.cpu().detach().numpy())\n",
    "\n",
    "\t# switch off autograd for evaluation\n",
    "\twith torch.no_grad():\n",
    "\t\tprint(f\"[INFO] starting evaluation for epoch: {e + 1} at {datetime.now().strftime('%H:%M:%S')}\")\n",
    "\t\t# set the model in evaluation mode\n",
    "\t\tmodel.eval()\n",
    "\t\t# loop over the validation set\n",
    "\t\tfor (x, y) in tqdm(valDataLoader, desc=\"validation progress\"):\n",
    "\t\t\tx = x.transpose(1, 3)\n",
    "\t\t\tx = x.transpose(2, 3)\n",
    "\t\t\tx = x.float()\n",
    "\t\t\t# send the input to the device\n",
    "\t\t\t(x, y) = (x.to(device), y.to(device))\n",
    "\t\t\t# make the predictions and calculate the validation loss\n",
    "\t\t\tpred = model(x)\n",
    "\t\t\ttotalValLoss += lossFn(pred, y)\n",
    "\t\t\t# calculate the number of correct predictions\n",
    "\t\t\tvalCorrect += (pred.argmax(1) == y).type(torch.float).sum().item()\n",
    "\n",
    "\t# calculate the average training and validation loss\n",
    "\tavgTrainLoss = totalTrainLoss / trainSteps\n",
    "\tavgValLoss = totalValLoss / valSteps\n",
    "\t# calculate the training and validation accuracy\n",
    "\ttrainCorrect = trainCorrect / len(trainDataLoader.dataset)\n",
    "\tvalCorrect = valCorrect / len(valDataLoader.dataset)\n",
    "\n",
    "\tf1epoch = f1_score(target, preds, average='macro')\n",
    "\t# update our training history\n",
    "\tH[\"train_loss\"].append(avgTrainLoss.cpu().detach().numpy())\n",
    "\tH[\"train_acc\"].append(trainCorrect)\n",
    "\tH[\"val_loss\"].append(avgValLoss.cpu().detach().numpy())\n",
    "\tH[\"val_acc\"].append(valCorrect)\n",
    "\tH['f1score'].append(f1epoch)\n",
    "\t# print the model training and validation information\n",
    "\tprint(f\"\"\"\n",
    "\t[INFO] EPOCH: {e + 1}/{EPOCHS}\n",
    "\tTrain loss: {avgTrainLoss :.6f}, Train accuracy: {trainCorrect :.4f}\n",
    "\tVal loss: \t{avgValLoss :.6f}, Val accuracy:   {valCorrect :.4f}\n",
    "\tF1: \t\t{f1epoch :.6f}\n",
    "\t---------------------------------------------------- \\n\n",
    "\t\"\"\")\n",
    "\n",
    "# finish measuring how long training took\n",
    "endTime = time.time()\n",
    "print(f\"[INFO] total time taken to train the model: {(endTime - startTime) / 60 :.2f}min\")"
   ],
   "metadata": {
    "collapsed": false,
    "pycharm": {
     "name": "#%%\n",
     "is_executing": true
    }
   }
  },
  {
   "cell_type": "code",
   "execution_count": 171,
   "outputs": [
    {
     "data": {
      "text/plain": "<matplotlib.legend.Legend at 0x1fd357245e0>"
     },
     "execution_count": 171,
     "metadata": {},
     "output_type": "execute_result"
    },
    {
     "data": {
      "text/plain": "<Figure size 1440x1296 with 1 Axes>",
      "image/png": "[encoded data removed]"
     },
     "metadata": {},
     "output_type": "display_data"
    }
   ],
   "source": [
    "# plot the training loss and accuracy\n",
    "plt.style.use(\"ggplot\")\n",
    "plt.rcParams['font.size'] = 20\n",
    "plt.figure(figsize=(20, 18))\n",
    "plt.plot(H[\"train_loss\"], label=\"train_loss\")\n",
    "plt.plot(H[\"val_loss\"], label=\"val_loss\")\n",
    "plt.plot(H[\"train_acc\"], label=\"train_acc\")\n",
    "plt.plot(H[\"val_acc\"], label=\"val_acc\")\n",
    "plt.plot(H[\"f1score\"], label=\"f1_score\")\n",
    "plt.title(\"Training Loss, Accuracy and F1 on Dataset\")\n",
    "plt.xlabel(\"Epoch #\")\n",
    "plt.ylabel(\"Loss/Accuracy/F1\")\n",
    "plt.legend(loc=\"lower left\")"
   ],
   "metadata": {
    "collapsed": false,
    "pycharm": {
     "name": "#%%\n",
     "is_executing": true
    }
   }
  },
  {
   "cell_type": "code",
   "execution_count": 148,
   "outputs": [
    {
     "name": "stdout",
     "output_type": "stream",
     "text": [
      "(224, 313, 3)\n",
      "False\n",
      "[[[  0   0   0]\n",
      "  [  0   0   0]\n",
      "  [104 104 104]\n",
      "  ...\n",
      "  [216 216 216]\n",
      "  [198 198 198]\n",
      "  [217 217 217]]\n",
      "\n",
      " [[  0   0   0]\n",
      "  [  0   0   0]\n",
      "  [111 111 111]\n",
      "  ...\n",
      "  [220 220 220]\n",
      "  [223 223 223]\n",
      "  [230 230 230]]\n",
      "\n",
      " [[  0   0   0]\n",
      "  [  0   0   0]\n",
      "  [114 114 114]\n",
      "  ...\n",
      "  [232 232 232]\n",
      "  [235 235 235]\n",
      "  [234 234 234]]\n",
      "\n",
      " ...\n",
      "\n",
      " [[  0   0   0]\n",
      "  [  0   0   0]\n",
      "  [  0   0   0]\n",
      "  ...\n",
      "  [ 36  36  36]\n",
      "  [ 45  45  45]\n",
      "  [ 53  53  53]]\n",
      "\n",
      " [[  0   0   0]\n",
      "  [  0   0   0]\n",
      "  [  0   0   0]\n",
      "  ...\n",
      "  [ 10  10  10]\n",
      "  [ 15  15  15]\n",
      "  [ 45  45  45]]\n",
      "\n",
      " [[  0   0   0]\n",
      "  [  0   0   0]\n",
      "  [  0   0   0]\n",
      "  ...\n",
      "  [  0   0   0]\n",
      "  [  0   0   0]\n",
      "  [ 45  45  45]]]\n"
     ]
    }
   ],
   "source": [
    "path_name = '../birdclef-2022-data/train_images/afrsil1/XC125458_0.npy'\n",
    "spec = np.load(path_name)\n",
    "\n",
    "print(spec.shape)\n",
    "print(np.array_equal(spec[0], spec[1]))\n",
    "print(spec)"
   ],
   "metadata": {
    "collapsed": false,
    "pycharm": {
     "name": "#%%\n",
     "is_executing": true
    }
   }
  },
  {
   "cell_type": "code",
   "execution_count": null,
   "outputs": [],
   "source": [
    "import torch, gc\n",
    "def empy_gpu_cache():\n",
    "\tgc.collect()\n",
    "\ttorch.cuda.empty_cache()"
   ],
   "metadata": {
    "collapsed": false,
    "pycharm": {
     "name": "#%%\n",
     "is_executing": true
    }
   }
  },
  {
   "cell_type": "code",
   "execution_count": null,
   "outputs": [],
   "source": [
    "#empy_gpu_cache()"
   ],
   "metadata": {
    "collapsed": false,
    "pycharm": {
     "name": "#%%\n",
     "is_executing": true
    }
   }
  },
  {
   "cell_type": "code",
   "execution_count": null,
   "outputs": [],
   "source": [],
   "metadata": {
    "collapsed": false,
    "pycharm": {
     "name": "#%%\n",
     "is_executing": true
    }
   }
  }
 ],
 "metadata": {
  "kernelspec": {
   "display_name": "Python 3",
   "language": "python",
   "name": "python3"
  },
  "language_info": {
   "codemirror_mode": {
    "name": "ipython",
    "version": 2
   },
   "file_extension": ".py",
   "mimetype": "text/x-python",
   "name": "python",
   "nbconvert_exporter": "python",
   "pygments_lexer": "ipython2",
   "version": "2.7.6"
  }
 },
 "nbformat": 4,
 "nbformat_minor": 0
}
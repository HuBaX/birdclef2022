{
 "cells": [
  {
   "cell_type": "code",
   "execution_count": null,
   "outputs": [],
   "source": [
    "import numpy as np\n",
    "import matplotlib.pyplot as plt\n",
    "import pandas as pd\n",
    "import librosa\n",
    "import librosa.display\n",
    "\n",
    "PATH_0 = \"../birdclef-2022-data\"\n",
    "PATH_1 = \"birdclef-2022-data\"\n",
    "\n",
    "meta = pd.read_csv(f\"{PATH_1}/train_metadata.csv\")\n",
    "\n",
    "base_path = f'{PATH_1}/train_audio/'\n",
    "audio_name = f'{PATH_1}/train_audio/afrsil1/XC125458.ogg'\n",
    "image_directory = f'{PATH_1}/train_images/'\n",
    "hop_length = 512\n",
    "window_size = 1024\n",
    "\n",
    "meta.head()"
   ],
   "metadata": {
    "collapsed": false,
    "pycharm": {
     "name": "#%%\n"
    }
   }
  },
  {
   "cell_type": "code",
   "execution_count": null,
   "outputs": [],
   "source": [
    "y, sr = librosa.load(audio_name)\n",
    "window = np.hanning(window_size)\n",
    "out  = librosa.core.spectrum.stft(y, n_fft = window_size, hop_length = hop_length,\n",
    "       window=window)\n",
    "out = 2 * np.abs(out) / np.sum(window)\n",
    "\n",
    "librosa.display.specshow(librosa.amplitude_to_db(out,ref=np.max),\n",
    "               y_axis='log', x_axis='time')"
   ],
   "metadata": {
    "collapsed": false,
    "pycharm": {
     "name": "#%%\n"
    }
   }
  },
  {
   "cell_type": "code",
   "execution_count": null,
   "outputs": [],
   "source": [
    "import skimage.io\n",
    "\n",
    "def spectrogram_image(y, sr, out, hop_length, n_mels):\n",
    "    # use log-melspectrogram\n",
    "    mels = librosa.feature.melspectrogram(y=y, sr=sr, n_mels=n_mels,\n",
    "                                            n_fft=hop_length*2, hop_length=hop_length)\n",
    "    mels = np.log(mels + 1e-9) # add small number to avoid log(0)\n",
    "\n",
    "    # min-max scale to fit inside 8-bit range\n",
    "    img = scale_minmax(mels, 0, 255).astype(np.uint8)\n",
    "    img = np.flip(img, axis=0) # put low frequencies at the bottom in image\n",
    "    img = 255-img # invert. make black==more energy\n",
    "\n",
    "    # save as PNG\n",
    "    skimage.io.imsave(image_directory + out + '.png', img)\n",
    "\n",
    "def scale_minmax(X, min=0.0, max=1.0):\n",
    "    X_std = (X - X.min()) / (X.max() - X.min())\n",
    "    X_scaled = X_std * (max - min) + min\n",
    "    return X_scaled\n",
    "\n",
    "def load_batch_spectograms(audio_names):\n",
    "    for entry in audio_names:\n",
    "        y, sr = librosa.load(base_path + entry)\n",
    "        spectrogram_image(y, sr, entry[:-4], hop_length, 256)"
   ],
   "metadata": {
    "collapsed": false,
    "pycharm": {
     "name": "#%%\n"
    }
   }
  },
  {
   "cell_type": "code",
   "execution_count": null,
   "outputs": [],
   "source": [
    "spec = spectrogram_image(y, sr, hop_length, 256)\n",
    "plt.imshow(spec)"
   ],
   "metadata": {
    "collapsed": false,
    "pycharm": {
     "name": "#%%\n"
    }
   }
  },
  {
   "cell_type": "code",
   "execution_count": null,
   "outputs": [],
   "source": [
    "# careful, this takes multiple hours to run\n",
    "\n",
    "def generate_spectograms():\n",
    "\n",
    "    names = meta['filename']\n",
    "    load_batch_spectograms(names)\n"
   ],
   "metadata": {
    "collapsed": false,
    "pycharm": {
     "name": "#%%\n"
    }
   }
  },
  {
   "cell_type": "code",
   "execution_count": null,
   "outputs": [],
   "source": [
    "import os\n",
    "def add_folder_structure():\n",
    "    names = meta['primary_label'].unique()\n",
    "    for name in names:\n",
    "        os.mkdir(image_directory + name)"
   ],
   "metadata": {
    "collapsed": false,
    "pycharm": {
     "name": "#%%\n"
    }
   }
  },
  {
   "cell_type": "code",
   "execution_count": null,
   "outputs": [],
   "source": [
    "add_folder_structure()"
   ],
   "metadata": {
    "collapsed": false,
    "pycharm": {
     "name": "#%%\n"
    }
   }
  }
 ],
 "metadata": {
  "interpreter": {
   "hash": "11938c6bc6919ae2720b4d5011047913343b08a43b18698fd82dedb0d4417594"
  },
  "kernelspec": {
   "display_name": "Python 3.9.4 64-bit",
   "language": "python",
   "name": "python3"
  },
  "language_info": {
   "codemirror_mode": {
    "name": "ipython",
    "version": 3
   },
   "file_extension": ".py",
   "mimetype": "text/x-python",
   "name": "python",
   "nbconvert_exporter": "python",
   "pygments_lexer": "ipython3",
   "version": "3.9.4"
  }
 },
 "nbformat": 4,
 "nbformat_minor": 0
}